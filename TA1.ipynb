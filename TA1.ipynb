{
 "cells": [
  {
   "cell_type": "markdown",
   "metadata": {},
   "source": [
    "# **TA #1 - Python version**\n",
    "\n",
    "## Foundation of Econometrics - DSDM 2023-2024\n",
    "\n",
    "**Renato Vassallo**\n",
    "\n",
    "**Contact:** [renato.vassallo@bse.eu](mailto:renato.vassallo@bse.eu)\n",
    "\n",
    "In this notebook we will review:\n",
    "\n",
    "+ Conditional Sample Means and Medians\n",
    "+ Fitting a linear polynomial\n",
    "+ Matrix Algebra\n",
    "+ Density Histograms\n",
    "+ Kernel Density Estimation"
   ]
  },
  {
   "cell_type": "markdown",
   "metadata": {},
   "source": [
    "## Importing necessary libraries"
   ]
  },
  {
   "cell_type": "code",
   "execution_count": 7,
   "metadata": {},
   "outputs": [],
   "source": [
    "# For data cleaning/wrangling\n",
    "import numpy as np               # vectors and matrices || Linear Algebra\n",
    "import pandas as pd              # tables and data manipulations \n",
    "import warnings\n",
    "import os\n",
    "warnings.filterwarnings('ignore')\n",
    "\n",
    "# Visualization Libraries\n",
    "import matplotlib.pyplot as plt  # plots\n",
    "import seaborn as sns            # attractive plots\n",
    "from ipywidgets import interact, FloatSlider\n",
    "\n",
    "# Models Libraries\n",
    "from scipy import stats\n",
    "from scipy.stats import norm\n",
    "\n",
    "data_path = os.getcwd()"
   ]
  },
  {
   "cell_type": "code",
   "execution_count": 9,
   "metadata": {},
   "outputs": [
    {
     "data": {
      "text/plain": [
       "'/Users/mikelgallo/repos/master_repo'"
      ]
     },
     "execution_count": 9,
     "metadata": {},
     "output_type": "execute_result"
    }
   ],
   "source": [
    "data_path"
   ]
  },
  {
   "cell_type": "markdown",
   "metadata": {},
   "source": [
    "# 1. Conditional means"
   ]
  },
  {
   "cell_type": "code",
   "execution_count": 10,
   "metadata": {},
   "outputs": [
    {
     "ename": "FileNotFoundError",
     "evalue": "[Errno 2] No such file or directory: '/Users/mikelgallo/repos/master_reposalaries.csv'",
     "output_type": "error",
     "traceback": [
      "\u001b[0;31m---------------------------------------------------------------------------\u001b[0m",
      "\u001b[0;31mFileNotFoundError\u001b[0m                         Traceback (most recent call last)",
      "\u001b[0;32m/var/folders/pv/kfw019zx6lq5tdq_s52kkbzc0000gn/T/ipykernel_9838/1177762137.py\u001b[0m in \u001b[0;36m<module>\u001b[0;34m\u001b[0m\n\u001b[1;32m      1\u001b[0m \u001b[0;31m# Read the csv file\u001b[0m\u001b[0;34m\u001b[0m\u001b[0;34m\u001b[0m\u001b[0m\n\u001b[0;32m----> 2\u001b[0;31m \u001b[0mdf\u001b[0m \u001b[0;34m=\u001b[0m \u001b[0mpd\u001b[0m\u001b[0;34m.\u001b[0m\u001b[0mread_csv\u001b[0m\u001b[0;34m(\u001b[0m\u001b[0mdata_path\u001b[0m\u001b[0;34m+\u001b[0m\u001b[0;34m'salaries.csv'\u001b[0m\u001b[0;34m)\u001b[0m\u001b[0;34m\u001b[0m\u001b[0;34m\u001b[0m\u001b[0m\n\u001b[0m\u001b[1;32m      3\u001b[0m \u001b[0;34m\u001b[0m\u001b[0m\n\u001b[1;32m      4\u001b[0m \u001b[0;31m# Filter the DataFrame to select rows where year == 1995\u001b[0m\u001b[0;34m\u001b[0m\u001b[0;34m\u001b[0m\u001b[0m\n\u001b[1;32m      5\u001b[0m \u001b[0mfiltered_df\u001b[0m \u001b[0;34m=\u001b[0m \u001b[0mdf\u001b[0m\u001b[0;34m[\u001b[0m\u001b[0mdf\u001b[0m\u001b[0;34m[\u001b[0m\u001b[0;34m'year'\u001b[0m\u001b[0;34m]\u001b[0m \u001b[0;34m==\u001b[0m \u001b[0;36m1995\u001b[0m\u001b[0;34m]\u001b[0m\u001b[0;34m\u001b[0m\u001b[0;34m\u001b[0m\u001b[0m\n",
      "\u001b[0;32m/opt/anaconda3/lib/python3.9/site-packages/pandas/util/_decorators.py\u001b[0m in \u001b[0;36mwrapper\u001b[0;34m(*args, **kwargs)\u001b[0m\n\u001b[1;32m    309\u001b[0m                     \u001b[0mstacklevel\u001b[0m\u001b[0;34m=\u001b[0m\u001b[0mstacklevel\u001b[0m\u001b[0;34m,\u001b[0m\u001b[0;34m\u001b[0m\u001b[0;34m\u001b[0m\u001b[0m\n\u001b[1;32m    310\u001b[0m                 )\n\u001b[0;32m--> 311\u001b[0;31m             \u001b[0;32mreturn\u001b[0m \u001b[0mfunc\u001b[0m\u001b[0;34m(\u001b[0m\u001b[0;34m*\u001b[0m\u001b[0margs\u001b[0m\u001b[0;34m,\u001b[0m \u001b[0;34m**\u001b[0m\u001b[0mkwargs\u001b[0m\u001b[0;34m)\u001b[0m\u001b[0;34m\u001b[0m\u001b[0;34m\u001b[0m\u001b[0m\n\u001b[0m\u001b[1;32m    312\u001b[0m \u001b[0;34m\u001b[0m\u001b[0m\n\u001b[1;32m    313\u001b[0m         \u001b[0;32mreturn\u001b[0m \u001b[0mwrapper\u001b[0m\u001b[0;34m\u001b[0m\u001b[0;34m\u001b[0m\u001b[0m\n",
      "\u001b[0;32m/opt/anaconda3/lib/python3.9/site-packages/pandas/io/parsers/readers.py\u001b[0m in \u001b[0;36mread_csv\u001b[0;34m(filepath_or_buffer, sep, delimiter, header, names, index_col, usecols, squeeze, prefix, mangle_dupe_cols, dtype, engine, converters, true_values, false_values, skipinitialspace, skiprows, skipfooter, nrows, na_values, keep_default_na, na_filter, verbose, skip_blank_lines, parse_dates, infer_datetime_format, keep_date_col, date_parser, dayfirst, cache_dates, iterator, chunksize, compression, thousands, decimal, lineterminator, quotechar, quoting, doublequote, escapechar, comment, encoding, encoding_errors, dialect, error_bad_lines, warn_bad_lines, on_bad_lines, delim_whitespace, low_memory, memory_map, float_precision, storage_options)\u001b[0m\n\u001b[1;32m    584\u001b[0m     \u001b[0mkwds\u001b[0m\u001b[0;34m.\u001b[0m\u001b[0mupdate\u001b[0m\u001b[0;34m(\u001b[0m\u001b[0mkwds_defaults\u001b[0m\u001b[0;34m)\u001b[0m\u001b[0;34m\u001b[0m\u001b[0;34m\u001b[0m\u001b[0m\n\u001b[1;32m    585\u001b[0m \u001b[0;34m\u001b[0m\u001b[0m\n\u001b[0;32m--> 586\u001b[0;31m     \u001b[0;32mreturn\u001b[0m \u001b[0m_read\u001b[0m\u001b[0;34m(\u001b[0m\u001b[0mfilepath_or_buffer\u001b[0m\u001b[0;34m,\u001b[0m \u001b[0mkwds\u001b[0m\u001b[0;34m)\u001b[0m\u001b[0;34m\u001b[0m\u001b[0;34m\u001b[0m\u001b[0m\n\u001b[0m\u001b[1;32m    587\u001b[0m \u001b[0;34m\u001b[0m\u001b[0m\n\u001b[1;32m    588\u001b[0m \u001b[0;34m\u001b[0m\u001b[0m\n",
      "\u001b[0;32m/opt/anaconda3/lib/python3.9/site-packages/pandas/io/parsers/readers.py\u001b[0m in \u001b[0;36m_read\u001b[0;34m(filepath_or_buffer, kwds)\u001b[0m\n\u001b[1;32m    480\u001b[0m \u001b[0;34m\u001b[0m\u001b[0m\n\u001b[1;32m    481\u001b[0m     \u001b[0;31m# Create the parser.\u001b[0m\u001b[0;34m\u001b[0m\u001b[0;34m\u001b[0m\u001b[0m\n\u001b[0;32m--> 482\u001b[0;31m     \u001b[0mparser\u001b[0m \u001b[0;34m=\u001b[0m \u001b[0mTextFileReader\u001b[0m\u001b[0;34m(\u001b[0m\u001b[0mfilepath_or_buffer\u001b[0m\u001b[0;34m,\u001b[0m \u001b[0;34m**\u001b[0m\u001b[0mkwds\u001b[0m\u001b[0;34m)\u001b[0m\u001b[0;34m\u001b[0m\u001b[0;34m\u001b[0m\u001b[0m\n\u001b[0m\u001b[1;32m    483\u001b[0m \u001b[0;34m\u001b[0m\u001b[0m\n\u001b[1;32m    484\u001b[0m     \u001b[0;32mif\u001b[0m \u001b[0mchunksize\u001b[0m \u001b[0;32mor\u001b[0m \u001b[0miterator\u001b[0m\u001b[0;34m:\u001b[0m\u001b[0;34m\u001b[0m\u001b[0;34m\u001b[0m\u001b[0m\n",
      "\u001b[0;32m/opt/anaconda3/lib/python3.9/site-packages/pandas/io/parsers/readers.py\u001b[0m in \u001b[0;36m__init__\u001b[0;34m(self, f, engine, **kwds)\u001b[0m\n\u001b[1;32m    809\u001b[0m             \u001b[0mself\u001b[0m\u001b[0;34m.\u001b[0m\u001b[0moptions\u001b[0m\u001b[0;34m[\u001b[0m\u001b[0;34m\"has_index_names\"\u001b[0m\u001b[0;34m]\u001b[0m \u001b[0;34m=\u001b[0m \u001b[0mkwds\u001b[0m\u001b[0;34m[\u001b[0m\u001b[0;34m\"has_index_names\"\u001b[0m\u001b[0;34m]\u001b[0m\u001b[0;34m\u001b[0m\u001b[0;34m\u001b[0m\u001b[0m\n\u001b[1;32m    810\u001b[0m \u001b[0;34m\u001b[0m\u001b[0m\n\u001b[0;32m--> 811\u001b[0;31m         \u001b[0mself\u001b[0m\u001b[0;34m.\u001b[0m\u001b[0m_engine\u001b[0m \u001b[0;34m=\u001b[0m \u001b[0mself\u001b[0m\u001b[0;34m.\u001b[0m\u001b[0m_make_engine\u001b[0m\u001b[0;34m(\u001b[0m\u001b[0mself\u001b[0m\u001b[0;34m.\u001b[0m\u001b[0mengine\u001b[0m\u001b[0;34m)\u001b[0m\u001b[0;34m\u001b[0m\u001b[0;34m\u001b[0m\u001b[0m\n\u001b[0m\u001b[1;32m    812\u001b[0m \u001b[0;34m\u001b[0m\u001b[0m\n\u001b[1;32m    813\u001b[0m     \u001b[0;32mdef\u001b[0m \u001b[0mclose\u001b[0m\u001b[0;34m(\u001b[0m\u001b[0mself\u001b[0m\u001b[0;34m)\u001b[0m\u001b[0;34m:\u001b[0m\u001b[0;34m\u001b[0m\u001b[0;34m\u001b[0m\u001b[0m\n",
      "\u001b[0;32m/opt/anaconda3/lib/python3.9/site-packages/pandas/io/parsers/readers.py\u001b[0m in \u001b[0;36m_make_engine\u001b[0;34m(self, engine)\u001b[0m\n\u001b[1;32m   1038\u001b[0m             )\n\u001b[1;32m   1039\u001b[0m         \u001b[0;31m# error: Too many arguments for \"ParserBase\"\u001b[0m\u001b[0;34m\u001b[0m\u001b[0;34m\u001b[0m\u001b[0m\n\u001b[0;32m-> 1040\u001b[0;31m         \u001b[0;32mreturn\u001b[0m \u001b[0mmapping\u001b[0m\u001b[0;34m[\u001b[0m\u001b[0mengine\u001b[0m\u001b[0;34m]\u001b[0m\u001b[0;34m(\u001b[0m\u001b[0mself\u001b[0m\u001b[0;34m.\u001b[0m\u001b[0mf\u001b[0m\u001b[0;34m,\u001b[0m \u001b[0;34m**\u001b[0m\u001b[0mself\u001b[0m\u001b[0;34m.\u001b[0m\u001b[0moptions\u001b[0m\u001b[0;34m)\u001b[0m  \u001b[0;31m# type: ignore[call-arg]\u001b[0m\u001b[0;34m\u001b[0m\u001b[0;34m\u001b[0m\u001b[0m\n\u001b[0m\u001b[1;32m   1041\u001b[0m \u001b[0;34m\u001b[0m\u001b[0m\n\u001b[1;32m   1042\u001b[0m     \u001b[0;32mdef\u001b[0m \u001b[0m_failover_to_python\u001b[0m\u001b[0;34m(\u001b[0m\u001b[0mself\u001b[0m\u001b[0;34m)\u001b[0m\u001b[0;34m:\u001b[0m\u001b[0;34m\u001b[0m\u001b[0;34m\u001b[0m\u001b[0m\n",
      "\u001b[0;32m/opt/anaconda3/lib/python3.9/site-packages/pandas/io/parsers/c_parser_wrapper.py\u001b[0m in \u001b[0;36m__init__\u001b[0;34m(self, src, **kwds)\u001b[0m\n\u001b[1;32m     49\u001b[0m \u001b[0;34m\u001b[0m\u001b[0m\n\u001b[1;32m     50\u001b[0m         \u001b[0;31m# open handles\u001b[0m\u001b[0;34m\u001b[0m\u001b[0;34m\u001b[0m\u001b[0m\n\u001b[0;32m---> 51\u001b[0;31m         \u001b[0mself\u001b[0m\u001b[0;34m.\u001b[0m\u001b[0m_open_handles\u001b[0m\u001b[0;34m(\u001b[0m\u001b[0msrc\u001b[0m\u001b[0;34m,\u001b[0m \u001b[0mkwds\u001b[0m\u001b[0;34m)\u001b[0m\u001b[0;34m\u001b[0m\u001b[0;34m\u001b[0m\u001b[0m\n\u001b[0m\u001b[1;32m     52\u001b[0m         \u001b[0;32massert\u001b[0m \u001b[0mself\u001b[0m\u001b[0;34m.\u001b[0m\u001b[0mhandles\u001b[0m \u001b[0;32mis\u001b[0m \u001b[0;32mnot\u001b[0m \u001b[0;32mNone\u001b[0m\u001b[0;34m\u001b[0m\u001b[0;34m\u001b[0m\u001b[0m\n\u001b[1;32m     53\u001b[0m \u001b[0;34m\u001b[0m\u001b[0m\n",
      "\u001b[0;32m/opt/anaconda3/lib/python3.9/site-packages/pandas/io/parsers/base_parser.py\u001b[0m in \u001b[0;36m_open_handles\u001b[0;34m(self, src, kwds)\u001b[0m\n\u001b[1;32m    220\u001b[0m         \u001b[0mLet\u001b[0m \u001b[0mthe\u001b[0m \u001b[0mreaders\u001b[0m \u001b[0mopen\u001b[0m \u001b[0mIOHandles\u001b[0m \u001b[0mafter\u001b[0m \u001b[0mthey\u001b[0m \u001b[0mare\u001b[0m \u001b[0mdone\u001b[0m \u001b[0;32mwith\u001b[0m \u001b[0mtheir\u001b[0m \u001b[0mpotential\u001b[0m \u001b[0mraises\u001b[0m\u001b[0;34m.\u001b[0m\u001b[0;34m\u001b[0m\u001b[0;34m\u001b[0m\u001b[0m\n\u001b[1;32m    221\u001b[0m         \"\"\"\n\u001b[0;32m--> 222\u001b[0;31m         self.handles = get_handle(\n\u001b[0m\u001b[1;32m    223\u001b[0m             \u001b[0msrc\u001b[0m\u001b[0;34m,\u001b[0m\u001b[0;34m\u001b[0m\u001b[0;34m\u001b[0m\u001b[0m\n\u001b[1;32m    224\u001b[0m             \u001b[0;34m\"r\"\u001b[0m\u001b[0;34m,\u001b[0m\u001b[0;34m\u001b[0m\u001b[0;34m\u001b[0m\u001b[0m\n",
      "\u001b[0;32m/opt/anaconda3/lib/python3.9/site-packages/pandas/io/common.py\u001b[0m in \u001b[0;36mget_handle\u001b[0;34m(path_or_buf, mode, encoding, compression, memory_map, is_text, errors, storage_options)\u001b[0m\n\u001b[1;32m    700\u001b[0m         \u001b[0;32mif\u001b[0m \u001b[0mioargs\u001b[0m\u001b[0;34m.\u001b[0m\u001b[0mencoding\u001b[0m \u001b[0;32mand\u001b[0m \u001b[0;34m\"b\"\u001b[0m \u001b[0;32mnot\u001b[0m \u001b[0;32min\u001b[0m \u001b[0mioargs\u001b[0m\u001b[0;34m.\u001b[0m\u001b[0mmode\u001b[0m\u001b[0;34m:\u001b[0m\u001b[0;34m\u001b[0m\u001b[0;34m\u001b[0m\u001b[0m\n\u001b[1;32m    701\u001b[0m             \u001b[0;31m# Encoding\u001b[0m\u001b[0;34m\u001b[0m\u001b[0;34m\u001b[0m\u001b[0m\n\u001b[0;32m--> 702\u001b[0;31m             handle = open(\n\u001b[0m\u001b[1;32m    703\u001b[0m                 \u001b[0mhandle\u001b[0m\u001b[0;34m,\u001b[0m\u001b[0;34m\u001b[0m\u001b[0;34m\u001b[0m\u001b[0m\n\u001b[1;32m    704\u001b[0m                 \u001b[0mioargs\u001b[0m\u001b[0;34m.\u001b[0m\u001b[0mmode\u001b[0m\u001b[0;34m,\u001b[0m\u001b[0;34m\u001b[0m\u001b[0;34m\u001b[0m\u001b[0m\n",
      "\u001b[0;31mFileNotFoundError\u001b[0m: [Errno 2] No such file or directory: '/Users/mikelgallo/repos/master_reposalaries.csv'"
     ]
    }
   ],
   "source": [
    "# Read the csv file\n",
    "df = pd.read_csv(data_path+'salaries.csv')\n",
    "\n",
    "# Filter the DataFrame to select rows where year == 1995\n",
    "filtered_df = df[df['year'] == 1995]\n",
    "filtered_df.reset_index(drop=True, inplace=True)\n",
    "filtered_df"
   ]
  },
  {
   "cell_type": "markdown",
   "metadata": {},
   "source": [
    "## Unconditional mean"
   ]
  },
  {
   "cell_type": "code",
   "execution_count": null,
   "metadata": {},
   "outputs": [],
   "source": [
    "# Describe the 'annual_salary' column\n",
    "unconditional = filtered_df['annual_salary'].describe()\n",
    "unconditional"
   ]
  },
  {
   "cell_type": "code",
   "execution_count": null,
   "metadata": {},
   "outputs": [],
   "source": [
    "# Access and store the mean value\n",
    "mean_value = unconditional['mean']\n",
    "mean_value"
   ]
  },
  {
   "cell_type": "markdown",
   "metadata": {},
   "source": [
    "## Conditional mean"
   ]
  },
  {
   "cell_type": "code",
   "execution_count": null,
   "metadata": {},
   "outputs": [],
   "source": [
    "# Conditional mean by sex\n",
    "conditional = filtered_df[filtered_df['female'] == 1]['annual_salary'].describe()\n",
    "conditional"
   ]
  },
  {
   "cell_type": "markdown",
   "metadata": {},
   "source": [
    "## Loop"
   ]
  },
  {
   "cell_type": "code",
   "execution_count": null,
   "metadata": {},
   "outputs": [],
   "source": [
    "# Approach 1\n",
    "results_df_1 = pd.DataFrame(columns=[\"Age\", \"Avg_salary\"])\n",
    "for i in range(20,36):\n",
    "\n",
    "    conditional = filtered_df[filtered_df['age'] == i]['annual_salary'].describe()\n",
    "    mean_value = conditional['mean']\n",
    "\n",
    "    # Store the results in the DataFrame\n",
    "    new_data = pd.DataFrame({'Age': [i], 'Avg_salary': [mean_value]})\n",
    "    results_df_1 = pd.concat([results_df_1, new_data], ignore_index=True)\n",
    "\n",
    "results_df_1"
   ]
  },
  {
   "cell_type": "code",
   "execution_count": null,
   "metadata": {},
   "outputs": [],
   "source": [
    "# Approach 2\n",
    "\n",
    "# Filter the DataFrame for ages between 20 and 35\n",
    "filtered_age_df = filtered_df[(filtered_df['age'] >= 20) & (filtered_df['age'] <= 35)]\n",
    "\n",
    "# Group by 'age' and calculate the mean for each group\n",
    "results_df_2 = filtered_age_df.groupby('age')['annual_salary'].mean().reset_index()\n",
    "results_df_2.columns = ['Age', 'Avg_salary']\n",
    "results_df_2"
   ]
  },
  {
   "cell_type": "markdown",
   "metadata": {},
   "source": [
    "## Plot of conditional sample `means`"
   ]
  },
  {
   "cell_type": "code",
   "execution_count": null,
   "metadata": {},
   "outputs": [],
   "source": [
    "# Create a scatter plot\n",
    "plt.figure(figsize=(8, 6))\n",
    "\n",
    "# Draw line and scatter\n",
    "#plt.plot(results_df_2['Age'], results_df_2['Avg_salary'], color='blue', alpha=0.5, linestyle='-', marker='', label='Lines')\n",
    "plt.scatter(results_df_2['Age'], results_df_2['Avg_salary'], marker='o', color='blue', alpha=0.7, s=70)\n",
    "\n",
    "# Add labels and title\n",
    "plt.xlabel('Age')\n",
    "plt.ylabel('Average Salary')\n",
    "plt.title('Scatter Plot of Age vs. Average Salary')\n",
    "\n",
    "# Show the plot\n",
    "plt.grid(True)\n",
    "plt.tight_layout()\n",
    "plt.show()"
   ]
  },
  {
   "cell_type": "markdown",
   "metadata": {},
   "source": [
    "## Fitting a linear polynomial"
   ]
  },
  {
   "cell_type": "code",
   "execution_count": null,
   "metadata": {},
   "outputs": [],
   "source": [
    "# Scatter plot\n",
    "plt.figure(figsize=(8, 6))\n",
    "plt.scatter(results_df_2['Age'], results_df_2['Avg_salary'], marker='o', color='blue', alpha=0.7, label='Data', s=70)\n",
    "\n",
    "# Linear regression\n",
    "slope, intercept, r_value, p_value, std_err = stats.linregress(results_df_2['Age'], results_df_2['Avg_salary'])\n",
    "regression_line = slope * results_df_2['Age'] + intercept\n",
    "plt.plot(results_df_2['Age'], regression_line, color='red', linestyle='--')\n",
    "\n",
    "# Add labels and title\n",
    "plt.xlabel('Age')\n",
    "plt.ylabel('Average Salary')\n",
    "plt.title('Scatter Plot of Age vs. Average Salary')\n",
    "\n",
    "# Show the plot\n",
    "plt.grid(True)\n",
    "plt.legend()\n",
    "plt.tight_layout()\n",
    "plt.show()\n",
    "\n",
    "print(\"Slope (m):\", slope)\n",
    "print(\"Intercept (b):\", intercept)\n",
    "print(\"R-squared:\", r_value**2)"
   ]
  },
  {
   "cell_type": "markdown",
   "metadata": {},
   "source": [
    "## Conditional sample `medians`"
   ]
  },
  {
   "cell_type": "code",
   "execution_count": null,
   "metadata": {},
   "outputs": [],
   "source": [
    "# Group by 'age' and calculate the median for each group\n",
    "results_df_3 = filtered_age_df.groupby('age')['annual_salary'].median().reset_index()\n",
    "results_df_3.columns = ['Age', 'Median_salary']\n",
    "results_df_3"
   ]
  },
  {
   "cell_type": "code",
   "execution_count": null,
   "metadata": {},
   "outputs": [],
   "source": [
    "# Scatter plot\n",
    "plt.figure(figsize=(10, 6))\n",
    "\n",
    "# Plotting Average Salary\n",
    "plt.scatter(results_df_2['Age'], results_df_2['Avg_salary'], marker='o', color='blue', alpha=0.7, label='Mean Data', s=70)\n",
    "\n",
    "# Linear regression for Average Salary\n",
    "slope_avg, intercept_avg, r_value_avg, _, _ = stats.linregress(results_df_2['Age'], results_df_2['Avg_salary'])\n",
    "regression_line_avg = slope_avg * results_df_2['Age'] + intercept_avg\n",
    "plt.plot(results_df_2['Age'], regression_line_avg, color='red', linestyle='--', label='Mean Fit')\n",
    "\n",
    "# Plotting Median Salary\n",
    "plt.scatter(results_df_3['Age'], results_df_3['Median_salary'], marker='o', color='green', alpha=0.7, label='Median Data', s=70)\n",
    "\n",
    "# Linear regression for Median Salary\n",
    "slope_med, intercept_med, r_value_med, _, _ = stats.linregress(results_df_3['Age'], results_df_3['Median_salary'])\n",
    "regression_line_med = slope_med * results_df_3['Age'] + intercept_med\n",
    "plt.plot(results_df_2['Age'], regression_line_med, color='purple', linestyle='--', label='Median Fit')\n",
    "\n",
    "# Add labels and title\n",
    "plt.xlabel('Age')\n",
    "plt.ylabel('Salary')\n",
    "plt.title('Scatter Plot of Age vs. Salary')\n",
    "\n",
    "# Show the plot\n",
    "plt.grid(True)\n",
    "plt.legend()\n",
    "plt.tight_layout()\n",
    "plt.show()\n",
    "\n",
    "print(\"Slope for Avg Salary (m):\", slope_avg)\n",
    "print(\"Intercept for Avg Salary (b):\", intercept_avg)\n",
    "print(\"R-squared for Avg Salary:\", r_value_avg**2)\n",
    "print('-----')\n",
    "print(\"Slope for Median Salary (m):\", slope_med)\n",
    "print(\"Intercept for Median Salary (b):\", intercept_med)\n",
    "print(\"R-squared for Median Salary:\", r_value_med**2)"
   ]
  },
  {
   "cell_type": "markdown",
   "metadata": {},
   "source": [
    "# 2. Matrix Algebra"
   ]
  },
  {
   "cell_type": "markdown",
   "metadata": {},
   "source": [
    "Solving a linear system using matrix algebra:\n",
    "\n",
    "\\begin{align*}\n",
    "    3z_{1} - z_{2} + 2z_{3} &= 20 \\\\\n",
    "    z_{1} + z_{2} &= 4 \\\\\n",
    "    z_{1} + 2z_{2} - z_{3} &= 1\n",
    "\\end{align*}\n",
    "\n",
    "Write system in matrix form as:\n",
    "\n",
    "\\begin{equation*}\n",
    "    \\begin{bmatrix} 3 & -1 & 2 \\\\ 1 & 1 & 0 \\\\ 1 & 2 & -1 \\end{bmatrix} \\begin{bmatrix} z_{1} \\\\ z_{2} \\\\ z_{3} \\end{bmatrix} = \\begin{bmatrix} 20 \\\\ 4 \\\\ 1 \\end{bmatrix}\n",
    "\\end{equation*}"
   ]
  },
  {
   "cell_type": "markdown",
   "metadata": {},
   "source": [
    "Then, solve for z:\n",
    "\n",
    "\\begin{align*}\n",
    "    A \\cdot z &= b \\\\\n",
    "    A^{-1} A \\cdot z &= A^{-1} b \\\\\n",
    "    I_{3} \\cdot z &= A^{-1} b \\\\\n",
    "    z &= A^{-1} b\n",
    "\\end{align*}"
   ]
  },
  {
   "cell_type": "code",
   "execution_count": null,
   "metadata": {},
   "outputs": [],
   "source": [
    "A = np.array([\n",
    "    [3, -1, 2],\n",
    "    [1, 1, 0],\n",
    "    [1, 2, -1]\n",
    "])\n",
    "A"
   ]
  },
  {
   "cell_type": "code",
   "execution_count": null,
   "metadata": {},
   "outputs": [],
   "source": [
    "b = np.array([\n",
    "    [20],\n",
    "    [4],\n",
    "    [1]\n",
    "])\n",
    "b"
   ]
  },
  {
   "cell_type": "code",
   "execution_count": null,
   "metadata": {},
   "outputs": [],
   "source": [
    "# Compute the inverse of a matrix\n",
    "iA = np.linalg.inv(A)\n",
    "iA"
   ]
  },
  {
   "cell_type": "code",
   "execution_count": null,
   "metadata": {},
   "outputs": [],
   "source": [
    "z = np.dot(iA, b)\n",
    "z"
   ]
  },
  {
   "cell_type": "code",
   "execution_count": null,
   "metadata": {},
   "outputs": [],
   "source": [
    "# directly solves the equation\n",
    "z = np.linalg.solve(A, b)\n",
    "z"
   ]
  },
  {
   "cell_type": "markdown",
   "metadata": {},
   "source": [
    "# 3. Histograms and Kernel Density Estimation"
   ]
  },
  {
   "cell_type": "markdown",
   "metadata": {},
   "source": [
    "## 3.1 Frequency vs Density Histograms\n",
    "\n",
    "`Frequency Histogram:`\n",
    "$$ h_i = f_i $$\n",
    "The heights of the bars represent the number of observations in each bin.\n",
    "\n",
    "`Relative Frequency Histogram:`\n",
    "$$ h_i = \\frac{f_i}{N} $$\n",
    "The heights of the bars represent the proportion of observations in each bin relative to the total number of observations.\n",
    "\n",
    "`Density Histogram:`\n",
    "$$ h_i = \\frac{f_i}{w_i \\cdot N} $$\n",
    "The heights of the bars represent the density of observations in each bin."
   ]
  },
  {
   "cell_type": "code",
   "execution_count": null,
   "metadata": {},
   "outputs": [],
   "source": [
    "# Generate random variables from N(0,1)\n",
    "np.random.seed(0)\n",
    "data = np.random.randn(1000)\n",
    "\n",
    "# Set up the figure and axes\n",
    "fig, axs = plt.subplots(1, 3, figsize=(15, 5), tight_layout=True)\n",
    "\n",
    "# Frequency Histogram\n",
    "axs[0].hist(data, bins=30, alpha=0.6, color='g')\n",
    "axs[0].set_title('Frequency Histogram')\n",
    "axs[0].set_xlabel('Value')\n",
    "axs[0].set_ylabel('Frequency')\n",
    "\n",
    "# Relative Frequency Histogram\n",
    "weights = np.ones_like(data) / len(data)\n",
    "axs[1].hist(data, bins=30, weights=weights, alpha=0.6, color='r')\n",
    "axs[1].set_title('Relative Frequency Histogram')\n",
    "axs[1].set_xlabel('Value')\n",
    "axs[1].set_ylabel('Relative Frequency')\n",
    "\n",
    "# Density Histogram\n",
    "axs[2].hist(data, bins=30, density=True, alpha=0.6, color='b')\n",
    "axs[2].set_title('Density Histogram')\n",
    "axs[2].set_xlabel('Value')\n",
    "axs[2].set_ylabel('Density')\n",
    "\n",
    "plt.show()"
   ]
  },
  {
   "cell_type": "markdown",
   "metadata": {},
   "source": [
    "## 3.2 Binwidth "
   ]
  },
  {
   "cell_type": "code",
   "execution_count": null,
   "metadata": {},
   "outputs": [],
   "source": [
    "import ipywidgets as widgets\n",
    "from IPython.display import display\n",
    "\n",
    "# Generate random variables from N(0,1)\n",
    "np.random.seed(0)\n",
    "data = np.random.randn(1000)\n",
    "\n",
    "def plot_hist(bin_width):\n",
    "    plt.figure(figsize=(8,5))\n",
    "    # Calculate the number of bins from bin width\n",
    "    range_width = np.max(data) - np.min(data)\n",
    "    nbins = int(range_width / bin_width)\n",
    "    plt.hist(data, bins=nbins, density=True, alpha=0.6, color='g')\n",
    "    plt.title('Interactive Density Histogram')\n",
    "    plt.xlabel('Value')\n",
    "    plt.ylabel('Density')\n",
    "    plt.show()\n",
    "\n",
    "bin_width_slider = widgets.FloatSlider(min=0.1, max=1, step=0.1, value=0.5, description='Bin Width:')\n",
    "widgets.interactive(plot_hist, bin_width=bin_width_slider)"
   ]
  },
  {
   "cell_type": "markdown",
   "metadata": {},
   "source": [
    "## 3.3 Kernel Density Estimation\n",
    "\n",
    "**Non-parametric** method for estimating the probability density function of a given random variable. \n",
    "\n",
    "Given a sample $x = \\{x_{1}, x_{2}, ..., x_{n}\\}$ of a random variable from an unknown source distribution, the kernel density estimate is given by:\n",
    "\\begin{equation*}\n",
    "    \\hat{p}(x) = \\frac{1}{wN} \\sum_{i=1}^{n} K \\left( \\frac{x-x_{i}}{w}\\right)\n",
    "\\end{equation*}\n",
    "where:\n",
    "+ **N**: number of observations.\n",
    "+ **w**: bandwidth or smoothing parameter. Controls how much the influence of each observation expands.\n",
    "+ **K**: the Kernel, a function that defines the shape and distribution of influence (weight) associated with each observation.\n",
    "\n",
    "Place a **kernel** on each $x_{i}$ and add them up."
   ]
  },
  {
   "cell_type": "code",
   "execution_count": null,
   "metadata": {},
   "outputs": [],
   "source": [
    "# Generate random variables from N(0,1)\n",
    "np.random.seed(0)\n",
    "data = np.random.randn(1000)\n",
    "\n",
    "# Define the bin width\n",
    "bin_width = 0.5  # You can adjust the bin width as needed\n",
    "range_width = np.max(data) - np.min(data)\n",
    "nbins = int(range_width / bin_width)\n",
    "\n",
    "plt.figure(figsize=(10,5))\n",
    "\n",
    "# Plotting Density Histogram\n",
    "plt.hist(data, bins=nbins, density=True, alpha=0.6, color='g')\n",
    "\n",
    "# Overlaying KDE plot\n",
    "sns.kdeplot(data, color='b', fill=False, alpha=0.9)\n",
    "\n",
    "plt.title('Density Histogram with KDE')\n",
    "plt.xlabel('Value')\n",
    "plt.ylabel('Density')\n",
    "plt.show()"
   ]
  },
  {
   "cell_type": "code",
   "execution_count": null,
   "metadata": {},
   "outputs": [],
   "source": [
    "from sklearn.neighbors import KernelDensity\n",
    "\n",
    "# Single data point\n",
    "X = np.array([0]).reshape(-1, 1)\n",
    "\n",
    "# Define a range of x values for plotting\n",
    "x_plot = np.linspace(-3, 3, 1000)\n",
    "\n",
    "# List of kernel types in scikit-learn\n",
    "kernels = ['gaussian', 'epanechnikov']\n",
    "\n",
    "# Initialize the plot with 2x3 subplots\n",
    "fig, axs = plt.subplots(1, 2, figsize=(8, 3))\n",
    "axs = axs.ravel()\n",
    "\n",
    "# Loop over kernel types and add each to the corresponding subplot\n",
    "for i, kernel in enumerate(kernels):\n",
    "    kde = KernelDensity(kernel=kernel, bandwidth=0.5).fit(X)\n",
    "    log_dens = kde.score_samples(x_plot.reshape(-1, 1))\n",
    "    axs[i].plot(x_plot, np.exp(log_dens), color='blue')\n",
    "    axs[i].fill_between(x_plot, np.exp(log_dens), alpha=0.5, color='blue')\n",
    "    axs[i].set_title(kernel.capitalize())\n",
    "    axs[i].set_xlim([-3, 3])\n",
    "    axs[i].set_ylim(bottom=0)\n",
    "\n",
    "# Set up common labels\n",
    "plt.tight_layout()\n",
    "plt.suptitle(\"Kernel Functions in Scikit-learn\", fontsize=16, y=1.05)\n",
    "plt.show()"
   ]
  }
 ],
 "metadata": {
  "kernelspec": {
   "display_name": "Python 3 (ipykernel)",
   "language": "python",
   "name": "python3"
  },
  "language_info": {
   "codemirror_mode": {
    "name": "ipython",
    "version": 3
   },
   "file_extension": ".py",
   "mimetype": "text/x-python",
   "name": "python",
   "nbconvert_exporter": "python",
   "pygments_lexer": "ipython3",
   "version": "3.9.7"
  }
 },
 "nbformat": 4,
 "nbformat_minor": 2
}
