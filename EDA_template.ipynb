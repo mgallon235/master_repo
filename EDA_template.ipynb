{
 "cells": [
  {
   "cell_type": "code",
   "execution_count": null,
   "id": "2b28a71f",
   "metadata": {},
   "outputs": [],
   "source": [
    "# Avoid zero division errors\n",
    "from __future__ import division"
   ]
  },
  {
   "cell_type": "code",
   "execution_count": null,
   "id": "b283395a",
   "metadata": {},
   "outputs": [],
   "source": [
    "import sys\n",
    "sys.path.append(\"/Users/mikelgallo/repos/master_repo\") # main path to repo"
   ]
  },
  {
   "cell_type": "code",
   "execution_count": null,
   "id": "8c7613c0",
   "metadata": {},
   "outputs": [],
   "source": [
    "## Imported modules\n",
    "import pandas a pd\n",
    "import numpy as np\n",
    "import os\n",
    "import matplotlib.pyplot as plt\n",
    "import seaborn as sns\n",
    "from scipy.stats import sem\n",
    "import math\n",
    "import datetime\n",
    "\n",
    "# Own modules\n",
    "# import Analysis.function_file as hh\n",
    "# from Analysis.function_file import *"
   ]
  },
  {
   "cell_type": "markdown",
   "id": "dafbac09",
   "metadata": {},
   "source": [
    "### Categorical Variables"
   ]
  },
  {
   "cell_type": "code",
   "execution_count": null,
   "id": "debe0fe4",
   "metadata": {},
   "outputs": [],
   "source": [
    "#. Count unique values for each categorical column\n",
    "#df[categorical_vars].nunique()"
   ]
  },
  {
   "cell_type": "code",
   "execution_count": null,
   "id": "391c6845",
   "metadata": {},
   "outputs": [],
   "source": [
    "# Plotting Categorical variables\n",
    "\n",
    "fig, axes = plt.subplots(4,2) # creates figure and axes. braquets represent #rows and #columns for display.\n",
    "for i, el in enumerate(df[categorical_vars]):\n",
    "    counts = df[el].value_counts() / df[el].count()\n",
    "    counts.plot(kind=\"barh\",\n",
    "               ax=axes.flatten()[i],\n",
    "               color='green').set_title(el)\n",
    "    \n",
    "    fig.set_size_inches(12,10) ## Play with figure size to fit all categories\n",
    "    plt.tight_layout()\n",
    "    plt.show()"
   ]
  },
  {
   "cell_type": "code",
   "execution_count": null,
   "id": "9e695c10",
   "metadata": {},
   "outputs": [],
   "source": [
    "#Plotting variables with many unique values\n",
    "\n",
    "plt.figure(figsize = (13,5))\n",
    "counts = df['column'].value_counts().index\n",
    "sns.countplot(data=df,x = 'column', order = counts)\n",
    "plt.xticks(rotation=75)\n",
    "plt.title('column')\n",
    "plt.xlabel('xxx')\n",
    "plt.ylabel('yyy')\n",
    "plt.show()"
   ]
  },
  {
   "cell_type": "code",
   "execution_count": null,
   "id": "dd04aada",
   "metadata": {},
   "outputs": [],
   "source": [
    "#Building a Frequency table for Top values\n",
    "counts = pd.DataFrame(df['column'].value_counts())\n",
    "#Calculating percentages\n",
    "counts['perc'] = counts['count'] / counts['count'].sum()\n",
    "#Calculating the accumulated percentages\n",
    "counts['accum'] = counts['perc'].expanding().sum() #Calculating running sum\n",
    "# retrieve index to be used\n",
    "counts2 = counts.reset_index().reset_index() #always create a new table \n",
    "# change names to columns\n",
    "counts2.columns. = ['ord', 'offer', 'n', 'perc', 'accum'] \n",
    "# create subset of the top 20 offers/classes\n",
    "counts_top20 = counts2[counts2['ord']<= 20]"
   ]
  },
  {
   "cell_type": "code",
   "execution_count": null,
   "id": "dcad612a",
   "metadata": {},
   "outputs": [],
   "source": [
    "#Plotting both perc and accum\n",
    "fig, (ax1,ax2) = plt.subplots(1,2, figsize=(20,8))\n",
    "counts_20.plot(x='offer', y='perc' , kind= 'bar', ax=ax1)\n",
    "counts_20.plot(x='offer', y='accum', kind = 'bar',ax = ax2)\n",
    "plt.xticks(rotation=90)\n",
    "plt.show()"
   ]
  },
  {
   "cell_type": "markdown",
   "id": "924c6be6",
   "metadata": {},
   "source": [
    "### Date variables"
   ]
  },
  {
   "cell_type": "code",
   "execution_count": null,
   "id": "0ecf7d3f",
   "metadata": {},
   "outputs": [],
   "source": [
    "# Explore our only date variable:\n",
    "df['first_activity_date'].describe()"
   ]
  },
  {
   "cell_type": "code",
   "execution_count": null,
   "id": "9018c1a8",
   "metadata": {},
   "outputs": [],
   "source": [
    "# Plotting count/sum/avg aggregated by a date\n",
    "\n",
    "df.groupby(pd.Grouper(key='first_activity_date', freq='D')\n",
    "          ).count().user_id.plot(x='index')"
   ]
  },
  {
   "cell_type": "markdown",
   "id": "ff81b053",
   "metadata": {},
   "source": [
    "### Bivariate analysis"
   ]
  },
  {
   "cell_type": "code",
   "execution_count": null,
   "id": "7e670afc",
   "metadata": {},
   "outputs": [],
   "source": [
    "## Identifying duplicates in the data\n",
    "df['subset'][df['subset'].index.duplicated()].count()"
   ]
  },
  {
   "cell_type": "code",
   "execution_count": null,
   "id": "629dcfef",
   "metadata": {},
   "outputs": [],
   "source": [
    "# In case we have duplicated rows, we remove them first before plottingthescatterplots\n",
    "remove_duplicates = df['subset'][~df['subset'].index.duplicated()]"
   ]
  },
  {
   "cell_type": "code",
   "execution_count": null,
   "id": "ef839e32",
   "metadata": {},
   "outputs": [],
   "source": [
    "# Plotting Scatter plots (Correlations)\n",
    "g = sns.PairGrid(remove_duplicates, diag_sharey=False, corner=True)\n",
    "g.map_diag(sns.histplot)\n",
    "g.map_offdiag(sns.scatterplot)\n",
    "g.add_legend()"
   ]
  },
  {
   "cell_type": "code",
   "execution_count": null,
   "id": "b8960ae5",
   "metadata": {},
   "outputs": [],
   "source": [
    "# Plotting Correlation Matrix\n",
    "\n",
    "corr = df['subset'].corr()\n",
    "plt.figure(figsize=(11,8))\n",
    "sns.heatmap(corr,cmap=\"RdY1Gn\", annot=True)\n",
    "plt.show()"
   ]
  },
  {
   "cell_type": "markdown",
   "id": "f6b2e8a0",
   "metadata": {},
   "source": [
    "### Categorical vs Categorical"
   ]
  },
  {
   "cell_type": "code",
   "execution_count": null,
   "id": "87dbf2b9",
   "metadata": {},
   "outputs": [],
   "source": [
    "'''\n",
    "Nornalization by dividing all values by the sum of values\n",
    "\n",
    "if passed 'all' or True, wiil normalize over all values.\n",
    "if passed 'index' will normalize over each row.\n",
    "if passed 'columns' will normalize over each column.\n",
    "\n",
    "if margins is True, will also normalize margin values.\n",
    "\n",
    "'''\n",
    "# Eg. \n",
    "frq_table = pd.crosstab(index=df['column_1'].astype(str), columns= df['column_2'].astype(str),\n",
    "                        normalize ='all', margins=True)"
   ]
  }
 ],
 "metadata": {
  "kernelspec": {
   "display_name": "Python 3 (ipykernel)",
   "language": "python",
   "name": "python3"
  },
  "language_info": {
   "codemirror_mode": {
    "name": "ipython",
    "version": 3
   },
   "file_extension": ".py",
   "mimetype": "text/x-python",
   "name": "python",
   "nbconvert_exporter": "python",
   "pygments_lexer": "ipython3",
   "version": "3.9.7"
  }
 },
 "nbformat": 4,
 "nbformat_minor": 5
}
