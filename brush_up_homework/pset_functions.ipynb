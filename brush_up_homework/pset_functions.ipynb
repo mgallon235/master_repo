{
 "cells": [
  {
   "cell_type": "markdown",
   "metadata": {
    "id": "rSAvcztbN6c7"
   },
   "source": [
    "# Problem set functions\n",
    "\n",
    "## Exercise 1:\n",
    "\n",
    "### Let's move closer to data science!\n",
    "\n",
    "Suppose you want to update a code that gets daily stock data. We need to design a pipeline that is automated and updates our dataset efficiently.\n",
    "\n",
    "Typically this is a scraping exercise but, for now, the new data that comes will just be a random realization.\n",
    "\n",
    "- First create a dataset that contains both date and a random number between 1 and 100. Store this dataset in a folder. You decide the format of storage but  read all the exercise before doing so.\n",
    "- Next, you will need to implement a code that keeps running forever and updates your dataset with a new random realization. The code has to run the update every day exactly at 15.00. That is, the code is always activated in your computer but only updates your dataset once per day.\n",
    "- Every day after the update, the dataset has to be stored and updated, ready to use.\n",
    "\n",
    "### Hints:\n",
    "- Make use of the schedule module to tell your code when to run.\n",
    "- Handle errors! It is important that your code does not disconnect on enters weird loops that make your computer break"
   ]
  },
  {
   "cell_type": "code",
   "execution_count": 66,
   "metadata": {},
   "outputs": [],
   "source": [
    "# Get daily stock data\n",
    "from datetime import date, timedelta\n",
    "import random\n",
    "import numpy as np\n",
    "\n",
    "liston = np.random.randint(30,45,10)"
   ]
  },
  {
   "cell_type": "code",
   "execution_count": 68,
   "metadata": {},
   "outputs": [],
   "source": [
    "my_date=date.today().strftime(\"%Y-%m-%d\")"
   ]
  },
  {
   "cell_type": "code",
   "execution_count": 69,
   "metadata": {},
   "outputs": [],
   "source": [
    "liston = liston.tolist()"
   ]
  },
  {
   "cell_type": "code",
   "execution_count": 70,
   "metadata": {},
   "outputs": [],
   "source": [
    "ranges = len(liston)"
   ]
  },
  {
   "cell_type": "code",
   "execution_count": 71,
   "metadata": {},
   "outputs": [],
   "source": [
    "dates = []\n",
    "for i in range(ranges):\n",
    "    dates.append(my_date)\n",
    "   "
   ]
  },
  {
   "cell_type": "code",
   "execution_count": 72,
   "metadata": {},
   "outputs": [],
   "source": [
    "diction = {'date':dates,'stock':liston}"
   ]
  },
  {
   "cell_type": "code",
   "execution_count": 73,
   "metadata": {},
   "outputs": [
    {
     "data": {
      "text/plain": [
       "{'date': ['2023-09-14',\n",
       "  '2023-09-14',\n",
       "  '2023-09-14',\n",
       "  '2023-09-14',\n",
       "  '2023-09-14',\n",
       "  '2023-09-14',\n",
       "  '2023-09-14',\n",
       "  '2023-09-14',\n",
       "  '2023-09-14',\n",
       "  '2023-09-14'],\n",
       " 'stock': [39, 38, 38, 35, 32, 31, 44, 35, 35, 41]}"
      ]
     },
     "execution_count": 73,
     "metadata": {},
     "output_type": "execute_result"
    }
   ],
   "source": [
    "diction"
   ]
  },
  {
   "cell_type": "markdown",
   "metadata": {
    "id": "ZkGu0g7UN6c_"
   },
   "source": [
    "## Exercise 2\n",
    "\n",
    "\n",
    "Make a function to do grid search and find the maximum of the following function numerically:\n",
    "\n",
    "$$\n",
    "f(x) = e^{1 - x^2} \\cdot (6x - 3) \\quad \\forall x \\in [0,3]\n",
    "$$\n",
    "\n",
    "\n",
    "### What is grid search?\n",
    "\n",
    "Simply put, you will iterate over the values of your function and stop the iteration once a maximum is solved. In this exercise, it is enough that your function does it for your function only. I mean you don't need to deal with generic cases of local vs global maxima etc.\n",
    "\n",
    "\n",
    "GUIDELINES:\n",
    "\n",
    "There are many ways to approach this exercise but here are some guidelines that you might use. Feel free to skip them.\n",
    "\n",
    "\n",
    "- Your function constains 4 arguments: the function you want to plug in, range limits and step size.\n",
    "- Step size controls how coarse you want to make the x range you will iterate over.\n",
    "- There should be a minimum of iterations required before starting the comparison so remember the use of continue and pass is handy in these cases.\n"
   ]
  }
 ],
 "metadata": {
  "colab": {
   "provenance": []
  },
  "kernelspec": {
   "display_name": "Python 3 (ipykernel)",
   "language": "python",
   "name": "python3"
  },
  "language_info": {
   "codemirror_mode": {
    "name": "ipython",
    "version": 3
   },
   "file_extension": ".py",
   "mimetype": "text/x-python",
   "name": "python",
   "nbconvert_exporter": "python",
   "pygments_lexer": "ipython3",
   "version": "3.9.7"
  },
  "vscode": {
   "interpreter": {
    "hash": "8e5bc56a5e59828724b9606669ef2e877f786cc96978258679ba8b9f5956bc86"
   }
  }
 },
 "nbformat": 4,
 "nbformat_minor": 1
}
