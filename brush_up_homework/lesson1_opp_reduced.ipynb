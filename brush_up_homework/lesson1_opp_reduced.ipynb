{
 "cells": [
  {
   "cell_type": "markdown",
   "metadata": {},
   "source": [
    "# OBJECT ORIENTED PROGRAMMING\n",
    "\n",
    "## CLASS, ATTRIBUTES AND METHODS:\n",
    "\n",
    "\n",
    "<img src=\"./images/cat.png\" alt=\"Getting Started\" width=\"300\">\n",
    "\n"
   ]
  },
  {
   "cell_type": "code",
   "execution_count": 1,
   "metadata": {},
   "outputs": [
    {
     "name": "stdout",
     "output_type": "stream",
     "text": [
      "<class 'type'>\n",
      "<class '__main__.Luis'>\n",
      "<class 'str'>\n"
     ]
    }
   ],
   "source": [
    "class Luis:\n",
    "    pass\n",
    "\n",
    "instance1=Luis()\n",
    "instance1.name=\"Luis\"\n",
    "instance1.scholl=\"BSE\"\n",
    "\n",
    "print(type(Luis))\n",
    "print(type(instance1))\n",
    "print(type(instance1.name))\n",
    "\n",
    "\n",
    "\n"
   ]
  },
  {
   "cell_type": "code",
   "execution_count": 5,
   "metadata": {},
   "outputs": [
    {
     "name": "stdout",
     "output_type": "stream",
     "text": [
      "Luis\n",
      "Good afternoon\n"
     ]
    }
   ],
   "source": [
    "class Luis:\n",
    "    def __init__(self,name,school):\n",
    "        self.name=name\n",
    "        self.school=school\n",
    "    def print_name(self): # this is a method\n",
    "        print(self.name)\n",
    "    def print_school(self):\n",
    "        print(self.school)\n",
    "    def greet(self,morning):\n",
    "        if morning:\n",
    "            print('Good morning')\n",
    "        else:\n",
    "            print('Good afternoon')\n",
    "        \n",
    "        \n",
    "# Luis(\"Luis\")\n",
    "\n",
    "instance1=Luis(\"Luis\",\"BSE\")\n",
    "\n",
    "instance1.print_name()\n",
    "instance1.greet(False)\n",
    "\n"
   ]
  },
  {
   "cell_type": "markdown",
   "metadata": {},
   "source": [
    "## Exercise for class:\n",
    "\n",
    "Define a class attribute”color” with a default value white. I.e., Every Vehicle should be white.\n",
    "\n",
    "Use the following code for this exercise.\n",
    "\n"
   ]
  },
  {
   "cell_type": "code",
   "execution_count": null,
   "metadata": {},
   "outputs": [],
   "source": [
    "class Vehicle:\n",
    "\n",
    "    def __init__(self, name, max_speed, mileage):\n",
    "        self.name = name\n",
    "        self.max_speed = max_speed\n",
    "        self.mileage = mileage\n",
    "\n",
    "class Bus(Vehicle):\n",
    "    pass\n",
    "\n",
    "class Car(Vehicle):\n",
    "    pass\n",
    "\n",
    "\n",
    "\n",
    "# Expected output\n",
    "\n",
    "\"\"\"\n",
    "Color: White, Vehicle name: School Volvo, Speed: 180, Mileage: 12\n",
    "Color: White, Vehicle name: Audi Q5, Speed: 240, Mileage: 18\n",
    "\"\"\""
   ]
  },
  {
   "cell_type": "markdown",
   "metadata": {},
   "source": [
    "## Child classes:\n",
    "\n",
    "Classes can follow a tree-like structure. Meaning that you can inherit all the properties from a previous class and build a new one. This might be handy when you want to organize your code without loosing previous information. \n",
    "\n",
    "Let's see an example:"
   ]
  },
  {
   "cell_type": "code",
   "execution_count": 2,
   "metadata": {},
   "outputs": [
    {
     "name": "stdout",
     "output_type": "stream",
     "text": [
      "School class initialized\n",
      "School class initialized\n"
     ]
    },
    {
     "data": {
      "text/plain": [
       "'Luis'"
      ]
     },
     "execution_count": 2,
     "metadata": {},
     "output_type": "execute_result"
    }
   ],
   "source": [
    "class Luis:\n",
    "    def __init__(self):\n",
    "        self.name=\"Luis\"\n",
    "        self.eye_color=\"brown\"\n",
    "\n",
    "class school(Luis):\n",
    "    def __init__(self):\n",
    "        print('School class initialized')\n",
    "        Luis.__init__(self)\n",
    "\n",
    "\n",
    "school_instance=school()\n",
    "\n",
    "school_instance.name      \n",
    "\n",
    "\n",
    "## Alternative, using super() function:\n",
    "\n",
    "class Luis:\n",
    "    def __init__(self):\n",
    "        self.name=\"Luis\"\n",
    "        self.eye_color=\"brown\"\n",
    "\n",
    "class school(Luis):\n",
    "    def __init__(self):\n",
    "        print('School class initialized')\n",
    "        super().__init__()\n",
    "\n",
    "bus = school()\n",
    "bus.name\n",
    "\n"
   ]
  },
  {
   "cell_type": "markdown",
   "metadata": {},
   "source": [
    "## Class exercise: Child classes:\n",
    "\n",
    "Create a Bus child class that inherits from the Vehicle class. The default fare charge of any vehicle is seating capacity * 100. If Vehicle is Bus instance, we need to add an extra 10% on full fare as a maintenance charge. So total fare for bus instance will become the final amount = total fare + 10% of the total fare.\n",
    "\n",
    "Note: The bus seating capacity is 50. so the final fare amount should be 5500. You need to override the fare() method of a Vehicle class in Bus class.\n",
    "\n",
    "Use the following code for your parent Vehicle class. We need to access the parent class from inside a method of a child class.\n",
    "\n",
    "IMPORTANT: YOU MUST USE THE super() funciton as we saw before. "
   ]
  },
  {
   "cell_type": "code",
   "execution_count": 5,
   "metadata": {},
   "outputs": [
    {
     "name": "stdout",
     "output_type": "stream",
     "text": [
      "Total Bus fare is: 5500\n"
     ]
    }
   ],
   "source": [
    "class Vehicle:\n",
    "    def __init__(self, name, mileage, capacity):\n",
    "        self.name = name\n",
    "        self.mileage = mileage\n",
    "        self.capacity = capacity\n",
    "\n",
    "    def fare(self):\n",
    "        return self.capacity * 100\n",
    "\n",
    "class Bus(Vehicle):\n",
    "        #super().__init__()\n",
    "    def fare(self):\n",
    "        return self.capacity * 110\n",
    "        #retunr super().fare()*1.1\n",
    "\n",
    "School_bus = Bus(\"School Volvo\", 12, 50)\n",
    "print(\"Total Bus fare is:\", School_bus.fare())"
   ]
  },
  {
   "cell_type": "code",
   "execution_count": 6,
   "metadata": {},
   "outputs": [
    {
     "ename": "IndentationError",
     "evalue": "expected an indented block (2115621970.py, line 1)",
     "output_type": "error",
     "traceback": [
      "\u001b[0;36m  File \u001b[0;32m\"/var/folders/pv/kfw019zx6lq5tdq_s52kkbzc0000gn/T/ipykernel_98601/2115621970.py\"\u001b[0;36m, line \u001b[0;32m1\u001b[0m\n\u001b[0;31m    class toyota(Vehicle):\u001b[0m\n\u001b[0m                          ^\u001b[0m\n\u001b[0;31mIndentationError\u001b[0m\u001b[0;31m:\u001b[0m expected an indented block\n"
     ]
    }
   ],
   "source": [
    "class toyota(Vehicle):\n",
    "    def"
   ]
  }
 ],
 "metadata": {
  "kernelspec": {
   "display_name": "Python 3 (ipykernel)",
   "language": "python",
   "name": "python3"
  },
  "language_info": {
   "codemirror_mode": {
    "name": "ipython",
    "version": 3
   },
   "file_extension": ".py",
   "mimetype": "text/x-python",
   "name": "python",
   "nbconvert_exporter": "python",
   "pygments_lexer": "ipython3",
   "version": "3.9.7"
  },
  "vscode": {
   "interpreter": {
    "hash": "8e5bc56a5e59828724b9606669ef2e877f786cc96978258679ba8b9f5956bc86"
   }
  }
 },
 "nbformat": 4,
 "nbformat_minor": 2
}
