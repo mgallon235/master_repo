{
 "cells": [
  {
   "cell_type": "markdown",
   "metadata": {},
   "source": [
    "## Instructions:\n",
    "\n",
    "This problem set will be hand in individually. You can collaborate with your classmates but original work is expected. Importantly, try to stick to the contents that we have cover so far in order to do the problem set.\n",
    "\n",
    "If you face any issues don't hesitate to ask me. \n",
    "\n",
    "## Exercise 1 : Debugging\n",
    "\n",
    "\n",
    "\n",
    "Debugging is one of the most valueble and frustrating tasks in coding. In this exercise, I want you to catch up with the basics og object types. You will find floats, integrers, booleans, nulls, strings and lists. Your goal is to make the following code run (no copilot activated).\n",
    "\n",
    "I want you to run the code for yesterday and print me the total amount of euros that I have. \n",
    "\n"
   ]
  },
  {
   "cell_type": "code",
   "execution_count": 1,
   "metadata": {},
   "outputs": [
    {
     "name": "stdout",
     "output_type": "stream",
     "text": [
      "How much money do you have in USD?100\n",
      "All good!\n",
      "You have 85.4 euros in total at date 2023-09-10\n"
     ]
    }
   ],
   "source": [
    "\n",
    "from datetime import date, timedelta\n",
    "\n",
    "\n",
    "day_before=15\n",
    "if day_before == 0:\n",
    "    my_date=date.today() - timedelta(days=day_before+1) #timedelta helps in calculating the difference between two dates\n",
    "elif day_before > 0:\n",
    "    my_date=date.today() - timedelta(days=day_before - (day_before-1)) #If day_before input is. greater than 0 will return yesterday's date\n",
    "else:\n",
    "    my_date=date.today() # Anything lower than 0 will return current date\n",
    "    \n",
    "my_currencies=[]\n",
    "# my_date=str(date.today()-timedelta(days=day_before+1))\n",
    "'''We can reuse the variable my_date that we calculated on the previous ifelse statement'''\n",
    "my_date  = str(my_date)\n",
    "'''changed day_before calculation to accept other values'''\n",
    "if my_date==str(date.today()-timedelta(days=day_before -(day_before-1))):\n",
    "    # Given exchange rates with decimals\n",
    "    usd_to_jpy = 110.0\n",
    "    usd_to_eur = 0.854\n",
    "#We first need to cuote what is inside the input function and then transform the string value to float'''\n",
    "    amount_in_usd = float(input('How much money do you have in USD?'))\n",
    "    # Conversion to JPY\n",
    "    amount_in_jpy = round(amount_in_usd * usd_to_jpy,3)\n",
    "#Calculate amount in euros from JPY amount'''\n",
    "    # amount_in_eur = amount_in_jpy * (1 / usd_to_eur)\n",
    "    amount_in_eur = round(amount_in_jpy * (1 / usd_to_jpy) * usd_to_eur,3)\n",
    "#Conversion back to usd using eur exchange rate'''\n",
    "    eur_to_usd = round(amount_in_eur * (1 / usd_to_eur),3)\n",
    "    # Conversion back to USD using JPY exchange rate\n",
    "#Conversion back to usd using jpy exchange rate'''\n",
    "\n",
    "    amount_in_usd_final = amount_in_jpy * (1 / usd_to_jpy)\n",
    "    if amount_in_usd_final == amount_in_usd:\n",
    "        print('All good!')\n",
    "    else:\n",
    "        print('Something went wrong!')\n",
    "        \n",
    "    my_currencies.append([amount_in_eur,amount_in_jpy,amount_in_usd_final])\n",
    "    \n",
    "    print('You have',my_currencies[0][0],'euros in total at date', my_date)\n",
    "\n"
   ]
  },
  {
   "cell_type": "markdown",
   "metadata": {},
   "source": [
    "## Exercise 2:\n",
    "\n",
    "For your final mini-project, we will create random groups to do the problem sets. Can you help me with this?\n",
    "Generate a code that forms random groups from the class list (just take the numbers of each of you in alphanbetical order and make use of your preferred package).\n",
    "\n",
    "Important! Be flexible: Let the group size to be a parameter that I can later modify.\n"
   ]
  },
  {
   "cell_type": "code",
   "execution_count": 2,
   "metadata": {},
   "outputs": [],
   "source": [
    "import pandas as pd\n",
    "import random\n",
    "import numpy as np\n",
    "import math"
   ]
  },
  {
   "cell_type": "code",
   "execution_count": 94,
   "metadata": {},
   "outputs": [],
   "source": [
    "## Create a list of studends and input of number of groups\n",
    "\n",
    "# Ask what is the number of groups \n",
    "def ask_num_groups():\n",
    "    groups = int(input('select # of groups: '))\n",
    "    return groups"
   ]
  },
  {
   "cell_type": "code",
   "execution_count": 95,
   "metadata": {},
   "outputs": [],
   "source": [
    "# Shuffle the original list to get random groups\n",
    "\n",
    "def shuffle_class(lista):\n",
    "    shuffle_list = random.sample(lista,len(lista))\n",
    "    return shuffle_list"
   ]
  },
  {
   "cell_type": "code",
   "execution_count": 96,
   "metadata": {},
   "outputs": [],
   "source": [
    "# Split list into sublists\n",
    "\n",
    "def split_lista(lista,groups):\n",
    "    split_part = np.array_split(lista,groups)\n",
    "    [l.tolist() for l in split_part]\n",
    "    return split_part"
   ]
  },
  {
   "cell_type": "code",
   "execution_count": 97,
   "metadata": {},
   "outputs": [],
   "source": [
    "# transform list of arrays into list of lists\n",
    "\n",
    "def transform_list(lista):\n",
    "    o = []\n",
    "    for i in lista:\n",
    "         o.append(i.tolist())\n",
    "    return o"
   ]
  },
  {
   "cell_type": "code",
   "execution_count": 98,
   "metadata": {},
   "outputs": [],
   "source": [
    "def main():\n",
    "    class_list = np.arange(1,26).tolist()\n",
    "    groups = ask_num_groups()\n",
    "    shuffle_list = shuffle_class(class_list)\n",
    "    split_lists= split_lista(shuffle_list,groups)\n",
    "    final_list = transform_list(split_lists)\n",
    "    \n",
    "    for index, i in enumerate(final_list):\n",
    "        print('group',index +1,'is composed of: ',i)\n",
    "    "
   ]
  },
  {
   "cell_type": "code",
   "execution_count": 164,
   "metadata": {},
   "outputs": [
    {
     "name": "stdout",
     "output_type": "stream",
     "text": [
      "select # of groups: 4\n",
      "group 1 is composed of:  [7, 9, 20, 14, 2, 13, 8]\n",
      "group 2 is composed of:  [17, 4, 5, 19, 21, 11]\n",
      "group 3 is composed of:  [16, 23, 12, 15, 22, 6]\n",
      "group 4 is composed of:  [1, 18, 10, 24, 3, 25]\n"
     ]
    }
   ],
   "source": [
    "main()"
   ]
  },
  {
   "cell_type": "markdown",
   "metadata": {},
   "source": [
    "## Exercise 3: \n",
    "\n",
    "Imagine you are working on a financial application that needs to display a user's transaction history. Transactions are stored in a list, and you want to present them in reverse chronological order, showing the most recent transactions first.\n",
    "\n",
    "Complete the following code: \n",
    "\n",
    "\n"
   ]
  },
  {
   "cell_type": "code",
   "execution_count": 107,
   "metadata": {},
   "outputs": [
    {
     "name": "stdout",
     "output_type": "stream",
     "text": [
      "Transaction History:\n",
      "{'date': '2023-07-10', 'amount': -30.0}\n",
      "{'date': '2023-07-15', 'amount': 200.0}\n",
      "{'date': '2023-07-25', 'amount': -50.0}\n",
      "{'date': '2023-08-01', 'amount': 100.0}\n"
     ]
    }
   ],
   "source": [
    "transaction_history = [\n",
    "    {\"date\": \"2023-08-01\", \"amount\": 100.00},\n",
    "    {\"date\": \"2023-07-25\", \"amount\": -50.00},\n",
    "    {\"date\": \"2023-07-15\", \"amount\": 200.00},\n",
    "    {\"date\": \"2023-07-10\", \"amount\": -30.00}\n",
    "]\n",
    "\n",
    "# Display transaction history in reverse chronological order\n",
    "print(\"Transaction History:\")\n",
    "for transaction in transaction_history[::-1]:\n",
    "    print(transaction)\n",
    "    "
   ]
  },
  {
   "cell_type": "markdown",
   "metadata": {},
   "source": [
    "Can you come up with a way to do it in one line of code?"
   ]
  },
  {
   "cell_type": "markdown",
   "metadata": {},
   "source": [
    "## EXERCISE 4\n",
    "\n",
    " Remove the items of a list a=[1,2,3,4,5,6] with a while loop. Final output should leave a as en empty list in memory. "
   ]
  },
  {
   "cell_type": "code",
   "execution_count": 110,
   "metadata": {},
   "outputs": [
    {
     "name": "stdout",
     "output_type": "stream",
     "text": [
      "[1, 2, 3, 4, 5]\n",
      "[1, 2, 3, 4]\n",
      "[1, 2, 3]\n",
      "[1, 2]\n",
      "[1]\n",
      "[]\n"
     ]
    }
   ],
   "source": [
    "a=[1,2,3,4,5,6]\n",
    "items = len(a)\n",
    "while items > 0:\n",
    "    a.pop()\n",
    "    items=len(a)\n",
    "    print(a)"
   ]
  },
  {
   "cell_type": "markdown",
   "metadata": {},
   "source": [
    "## EXERCISE 5\n",
    "\n",
    "The following dictionary contains a username, the number of tweets and the creation date. I want to filter thhose accounts created before 2015 (included). How can you do that?\n",
    "Try to be as efficient as you can.\n",
    "\n"
   ]
  },
  {
   "cell_type": "code",
   "execution_count": 111,
   "metadata": {},
   "outputs": [],
   "source": [
    "usernames={'john_alabama':[122,2018],'perry_123':[12,2019],'yasss':[12322,2018],'lucas12':[44,2011],'maryram':[2322,2015]}"
   ]
  },
  {
   "cell_type": "code",
   "execution_count": 127,
   "metadata": {},
   "outputs": [
    {
     "name": "stdout",
     "output_type": "stream",
     "text": [
      "john_alabama [122, 2018]\n",
      "perry_123 [12, 2019]\n",
      "yasss [12322, 2018]\n"
     ]
    }
   ],
   "source": [
    "for x, y in usernames.items():\n",
    "    if y[1] > 2015:\n",
    "        print(x,y)"
   ]
  },
  {
   "cell_type": "markdown",
   "metadata": {},
   "source": [
    "## EXERCISE 6\n",
    "\n",
    "Use list comprehensions to get the lists that contain any of the integers, 1, 6 or 7 in the following list of lists:\n"
   ]
  },
  {
   "cell_type": "code",
   "execution_count": 140,
   "metadata": {},
   "outputs": [],
   "source": [
    "list_of_lists=[[2, 5, 2],\n",
    "[2, 10, 8],\n",
    "[9, 8, 1],\n",
    "[4, 5, 9],\n",
    "[9, 6, 3],\n",
    "[9, 9, 5],\n",
    "[9, 6, 1],\n",
    "[9, 2, 6],\n",
    "[8, 2, 5],\n",
    "[7, 2, 8],\n",
    "[2, 5, 7],\n",
    "[3, 5, 9],\n",
    "[9, 2, 4],\n",
    "[5, 8, 1],\n",
    "[3, 3, 8],\n",
    "[7, 3, 5],\n",
    "[7, 5, 3],\n",
    "[4, 5, 8],\n",
    "[2, 9, 6],\n",
    "[4, 8, 2],\n",
    "[3, 8, 4],\n",
    "[7, 1, 3],\n",
    "[8, 7, 5],\n",
    "[1, 5, 2],\n",
    "[10, 2, 4]]"
   ]
  },
  {
   "cell_type": "code",
   "execution_count": 144,
   "metadata": {},
   "outputs": [
    {
     "name": "stdout",
     "output_type": "stream",
     "text": [
      "[1, 6, 6, 1, 6, 7, 7, 1, 7, 7, 6, 7, 1, 7, 1]\n"
     ]
    }
   ],
   "source": [
    "new_list = []\n",
    "for value in list_of_lists:\n",
    "    for j in value:\n",
    "        if j  == 1:\n",
    "            new_list.append(j)\n",
    "        elif j == 6:\n",
    "            new_list.append(j)\n",
    "        elif j == 7:\n",
    "            new_list.append(j)\n",
    "        else:\n",
    "            pass\n",
    "print(new_list)"
   ]
  },
  {
   "cell_type": "markdown",
   "metadata": {},
   "source": [
    "# EXERCISE 7:\n",
    "\n",
    "Create a new dictionary that contains both dict1 and dict2. Best answer is the one that uses less lines of code.\n"
   ]
  },
  {
   "cell_type": "code",
   "execution_count": 147,
   "metadata": {},
   "outputs": [],
   "source": [
    "dict1={'name':'BSE','price':100,'shares':10}\n",
    "dict2={'city':'Barcelona','country':'Spain'}"
   ]
  },
  {
   "cell_type": "code",
   "execution_count": 151,
   "metadata": {},
   "outputs": [],
   "source": [
    "dict3 = {**dict1, **dict2}"
   ]
  },
  {
   "cell_type": "code",
   "execution_count": 153,
   "metadata": {},
   "outputs": [
    {
     "data": {
      "text/plain": [
       "{'name': 'BSE',\n",
       " 'price': 100,\n",
       " 'shares': 10,\n",
       " 'city': 'Barcelona',\n",
       " 'country': 'Spain'}"
      ]
     },
     "execution_count": 153,
     "metadata": {},
     "output_type": "execute_result"
    }
   ],
   "source": [
    "dict3"
   ]
  },
  {
   "cell_type": "markdown",
   "metadata": {},
   "source": [
    "# EXERCISE 8:\n",
    "\n",
    "Manu's exercises can be done with python. complete the code below to calculate the determinant of the matrix in your problem set \n",
    "\n"
   ]
  },
  {
   "cell_type": "code",
   "execution_count": 161,
   "metadata": {},
   "outputs": [
    {
     "name": "stdout",
     "output_type": "stream",
     "text": [
      "-19\n"
     ]
    }
   ],
   "source": [
    "\n",
    "A=[[7,1,3],[5,6,4],[1,9,3]]\n",
    "\n",
    "\n",
    "\n",
    "rows=[[i[0] for i in A],[i[1] for i in A],[i[2] for i in A]]\n",
    "\n",
    "det=0\n",
    "for index, row in enumerate(rows) :\n",
    "    nums=[0,1,2]\n",
    "    nums.pop(index)\n",
    "    minor=[]   \n",
    "    myrows=[]\n",
    "    for j in nums:\n",
    "        myrows.append(j)\n",
    "    for i in myrows:\n",
    "        minor.append(i)\n",
    "    det+=((-1)**(i))*(rows[i][j]*rows[j][i]-rows[0][j]* rows[j][0])\n",
    "\n",
    "print(det)"
   ]
  },
  {
   "cell_type": "code",
   "execution_count": 163,
   "metadata": {},
   "outputs": [
    {
     "data": {
      "text/plain": [
       "6"
      ]
     },
     "execution_count": 163,
     "metadata": {},
     "output_type": "execute_result"
    }
   ],
   "source": []
  }
 ],
 "metadata": {
  "kernelspec": {
   "display_name": "Python 3 (ipykernel)",
   "language": "python",
   "name": "python3"
  },
  "language_info": {
   "codemirror_mode": {
    "name": "ipython",
    "version": 3
   },
   "file_extension": ".py",
   "mimetype": "text/x-python",
   "name": "python",
   "nbconvert_exporter": "python",
   "pygments_lexer": "ipython3",
   "version": "3.9.7"
  },
  "vscode": {
   "interpreter": {
    "hash": "8e5bc56a5e59828724b9606669ef2e877f786cc96978258679ba8b9f5956bc86"
   }
  }
 },
 "nbformat": 4,
 "nbformat_minor": 2
}
