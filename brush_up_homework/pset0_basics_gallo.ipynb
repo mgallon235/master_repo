{
 "cells": [
  {
   "cell_type": "markdown",
   "metadata": {},
   "source": [
    "## Instructions:\n",
    "\n",
    "This problem set will be hand in individually. You can collaborate with your classmates but original work is expected. Importantly, try to stick to the contents that we have cover so far in order to do the problem set.\n",
    "\n",
    "If you face any issues don't hesitate to ask me. \n",
    "\n",
    "## Exercise 1 : Debugging\n",
    "\n",
    "\n",
    "\n",
    "Debugging is one of the most valueble and frustrating tasks in coding. In this exercise, I want you to catch up with the basics og object types. You will find floats, integrers, booleans, nulls, strings and lists. Your goal is to make the following code run (no copilot activated).\n",
    "\n",
    "I want you to run the code for yesterday and print me the total amount of euros that I have. \n",
    "\n"
   ]
  },
  {
   "cell_type": "code",
   "execution_count": null,
   "metadata": {},
   "outputs": [],
   "source": [
    "\n",
    "from datetime import date, timedelta\n",
    "\n",
    "\n",
    "day_before=0\n",
    "if day_before:\n",
    "    my_date=date.today()-timedelta(days=day_before+1)\n",
    "else:\n",
    "    my_date=date.today()\n",
    "    \n",
    "my_currencies=[]\n",
    "my_date=str(date.today()-timedelta(days=day_before+1))\n",
    "if my_date==str(date.today()-timedelta(days=day_before+1)):\n",
    "    # Given exchange rates with decimals\n",
    "    usd_to_jpy = 110.0\n",
    "    usd_to_eur = 0.854\n",
    "    amount_in_usd = input(How much money do you have in USD?)\n",
    "    # Conversion to JPY\n",
    "    amount_in_jpy = amount_in_usd * usd_to_jpy\n",
    "    # Conversion back to USD using EUR exchange rate\n",
    "    amount_in_eur = amount_in_jpy * (1 / usd_to_eur)\n",
    "    # Conversion back to USD using JPY exchange rate\n",
    "    amount_in_usd_final = amount_in_eur * usd_to_eur\n",
    "    if amount_in_usd_final == amount_in_usd:\n",
    "        print('All good!')\n",
    "    else:\n",
    "        print('Something went wrong!')\n",
    "    my_currencies.append([amount_in_eur,amount_in_jpy,amount_in_usd_final])\n",
    "    \n",
    "    print('You have @mycurrencies[0] euros in total at date @date')\n",
    "\n"
   ]
  },
  {
   "cell_type": "markdown",
   "metadata": {},
   "source": [
    "## Exercise 2:\n",
    "\n",
    "For your final mini-project, we will create random groups to do the problem sets. Can you help me with this?\n",
    "Generate a code that forms random groups from the class list (just take the numbers of each of you in alphanbetical order and make use of your preferred package).\n",
    "\n",
    "Important! Be flexible: Let the group size to be a parameter that I can later modify.\n"
   ]
  },
  {
   "cell_type": "markdown",
   "metadata": {},
   "source": [
    "## Exercise 3: \n",
    "\n",
    "Imagine you are working on a financial application that needs to display a user's transaction history. Transactions are stored in a list, and you want to present them in reverse chronological order, showing the most recent transactions first.\n",
    "\n",
    "Complete the following code: \n",
    "\n",
    "\n"
   ]
  },
  {
   "cell_type": "code",
   "execution_count": null,
   "metadata": {},
   "outputs": [],
   "source": [
    "transaction_history = [\n",
    "    {\"date\": \"2023-08-01\", \"amount\": 100.00},\n",
    "    {\"date\": \"2023-07-25\", \"amount\": -50.00},\n",
    "    {\"date\": \"2023-07-15\", \"amount\": 200.00},\n",
    "    {\"date\": \"2023-07-10\", \"amount\": -30.00}\n",
    "]\n",
    "\n",
    "# Display transaction history in reverse chronological order\n",
    "print(\"Transaction History:\")\n",
    "for transaction in XXX\n"
   ]
  },
  {
   "cell_type": "markdown",
   "metadata": {},
   "source": [
    "Can you come up with a way to do it in one line of code?"
   ]
  },
  {
   "cell_type": "markdown",
   "metadata": {},
   "source": [
    "## EXERCISE 4\n",
    "\n",
    " Remove the items of a list a=[1,2,3,4,5,6] with a while loop. Final output should leave a as en empty list in memory. "
   ]
  },
  {
   "cell_type": "markdown",
   "metadata": {},
   "source": [
    "## EXERCISE 5\n",
    "\n",
    "The following dictionary contains a username, the number of tweets and the creation date. I want to filter thhose accounts created before 2015 (included). How can you do that?\n",
    "Try to be as efficient as you can.\n",
    "\n"
   ]
  },
  {
   "cell_type": "code",
   "execution_count": null,
   "metadata": {},
   "outputs": [],
   "source": [
    "usernames={'john_alabama':[122,2018],'perry_123':[12,2019],'yasss':[12322,2018],'lucas12':[44,2011],'maryram':[2322,2015]}"
   ]
  },
  {
   "cell_type": "markdown",
   "metadata": {},
   "source": [
    "## EXERCISE 6\n",
    "\n",
    "Use list comprehensions to get the lists that contain any of the integers, 1, 6 or 7 in the following list of lists:\n"
   ]
  },
  {
   "cell_type": "code",
   "execution_count": null,
   "metadata": {},
   "outputs": [],
   "source": [
    "list_of_lists=[[2, 5, 2],\n",
    "[2, 10, 8],\n",
    "[9, 8, 1],\n",
    "[4, 5, 9],\n",
    "[9, 6, 3],\n",
    "[9, 9, 5],\n",
    "[9, 6, 1],\n",
    "[9, 2, 6],\n",
    "[8, 2, 5],\n",
    "[7, 2, 8],\n",
    "[2, 5, 7],\n",
    "[3, 5, 9],\n",
    "[9, 2, 4],\n",
    "[5, 8, 1],\n",
    "[3, 3, 8],\n",
    "[7, 3, 5],\n",
    "[7, 5, 3],\n",
    "[4, 5, 8],\n",
    "[2, 9, 6],\n",
    "[4, 8, 2],\n",
    "[3, 8, 4],\n",
    "[7, 1, 3],\n",
    "[8, 7, 5],\n",
    "[1, 5, 2],\n",
    "[10, 2, 4]]"
   ]
  },
  {
   "cell_type": "markdown",
   "metadata": {},
   "source": [
    "# EXERCISE 7:\n",
    "\n",
    "Create a new dictionary that contains both dict1 and dict2. Best answer is the one that uses less lines of code.\n"
   ]
  },
  {
   "cell_type": "code",
   "execution_count": null,
   "metadata": {},
   "outputs": [],
   "source": [
    "dict1={'name':'BSE','price':100,'shares':10}\n",
    "dict2={'city':'Barcelona','country':'Spain'}\n",
    "\n",
    "dict3=?"
   ]
  },
  {
   "cell_type": "markdown",
   "metadata": {},
   "source": [
    "# EXERCISE 8:\n",
    "\n",
    "Manu's exercises can be done with python. complete the code below to calculate the determinant of the matrix in your problem set \n",
    "\n"
   ]
  },
  {
   "cell_type": "code",
   "execution_count": null,
   "metadata": {},
   "outputs": [],
   "source": [
    "\n",
    "A=[[7,1,3],[5,6,4],[1,9,3]]\n",
    "\n",
    "\n",
    "\n",
    "rows=[[i[0] for i in A],[i[1] for i in A],[i[2] for i in A]]\n",
    "\n",
    "det=0\n",
    "for index, row in enumerate(XXX) :\n",
    "    nums=[0,1,2]\n",
    "    nums.pop(XXX)\n",
    "    minor=[]   \n",
    "    myrows=[]\n",
    "    for j in nums:\n",
    "        myrows.append(XXX)\n",
    "    for i in myrows:\n",
    "        minor.append(XXX)\n",
    "    det+=((-1)**XXX)*(XXX*XXX-XXX*XXX)\n",
    "\n",
    "print(det)"
   ]
  }
 ],
 "metadata": {
  "kernelspec": {
   "display_name": "Python 3.8.16 ('pyannote')",
   "language": "python",
   "name": "python3"
  },
  "language_info": {
   "name": "python",
   "version": "3.8.16"
  },
  "orig_nbformat": 4,
  "vscode": {
   "interpreter": {
    "hash": "8e5bc56a5e59828724b9606669ef2e877f786cc96978258679ba8b9f5956bc86"
   }
  }
 },
 "nbformat": 4,
 "nbformat_minor": 2
}
