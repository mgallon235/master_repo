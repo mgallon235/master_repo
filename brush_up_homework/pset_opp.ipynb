{
  "cells": [
    {
      "cell_type": "markdown",
      "metadata": {
        "id": "ZH6JBtfxhNQ5"
      },
      "source": [
        "# OBJECT ORIENTED PROGRAMMING:\n",
        "\n",
        "## Exercise:\n",
        "\n",
        "You have to create a chat bot similar to an automated customer service on a phone.\n",
        "\n",
        "Create a class with attributes and methods to achive the following:\n",
        "\n",
        "\n",
        "1. The machine greets the customer.\n",
        "2. It immediately offers help in one of the following issues asking the customer to press one of the keys:\n",
        "   - You have a problem with your internet.\n",
        "   - You have a problem with your phone.\n",
        "   - You want to check information about your bills.\n",
        "   - Other\n",
        "3. After the answer, we will, for the sake of simplicity and the client's desperation, redirect her to different URLs.\n",
        "4. If the customer marked \"Other,\" we will ask her what's her problem, record it, and send her to a human operator.\n",
        "\n",
        "Importantly, remember to use class, atributes and funcitons. The code has to be able to consider all possible situations described in the points avobe. Think also on possible human errors that the client might do when calling and make your code robust to them!\n",
        "\n",
        "\n",
        "HINTS:\n",
        "\n",
        "input() function ways your python code until the \"user\" inputs a value.\n",
        "\n",
        "The phone call cannot last forever. Find ways to hang up the phone at some point.\n",
        "\n",
        "\n",
        "\n",
        "\n"
      ]
    }
  ],
  "metadata": {
    "kernelspec": {
      "display_name": "Python 3.8.16 ('pyannote')",
      "language": "python",
      "name": "python3"
    },
    "language_info": {
      "name": "python",
      "version": "3.8.16"
    },
    "orig_nbformat": 4,
    "vscode": {
      "interpreter": {
        "hash": "8e5bc56a5e59828724b9606669ef2e877f786cc96978258679ba8b9f5956bc86"
      }
    },
    "colab": {
      "provenance": []
    }
  },
  "nbformat": 4,
  "nbformat_minor": 0
}