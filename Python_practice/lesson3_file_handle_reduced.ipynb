{
 "cells": [
  {
   "cell_type": "markdown",
   "metadata": {
    "id": "-NGzQaJBsSYJ"
   },
   "source": [
    "# File handling:\n",
    "\n",
    "\n",
    "Sometimes you need to process files within python. Files can be in unumerable formats and there are versatile modules to handle their reading. In this part, we will focus on .txt files. Although there are many cool things you can do with text, in the brush up we will only see how to operate with the files without touching their content. We leave that for the text analysis course :)\n",
    "\n",
    "\n",
    "\n"
   ]
  },
  {
   "cell_type": "code",
   "execution_count": 12,
   "metadata": {
    "id": "EmLeyAyvsSYL"
   },
   "outputs": [],
   "source": [
    "import os\n",
    "\n",
    "path= os.getcwd()\n",
    "\n",
    "os.makedirs(path,exist_ok=True)\n",
    "\n",
    "\n",
    "\n",
    "with open(f'{path}/example.txt','w') as f:\n",
    "    for line in range(10):\n",
    "        f.write('a line\\n')\n",
    "\n",
    "\n",
    "\n",
    "\n",
    "\n"
   ]
  },
  {
   "cell_type": "code",
   "execution_count": 45,
   "metadata": {},
   "outputs": [
    {
     "data": {
      "text/plain": [
       "'/Users/mikelgallo/repos/master_repo/Python_practice'"
      ]
     },
     "execution_count": 45,
     "metadata": {},
     "output_type": "execute_result"
    }
   ],
   "source": []
  },
  {
   "cell_type": "code",
   "execution_count": 44,
   "metadata": {},
   "outputs": [],
   "source": [
    "os.makedirs(path,exist_ok=True)"
   ]
  },
  {
   "cell_type": "markdown",
   "metadata": {
    "id": "O1tid37wsSYM"
   },
   "source": [
    "- r: open an existing file for a read operation.\n",
    "- w: open an existing file for a write operation. If the file already contains some data then it will be overridden but if the file is not present then it creates the file as well.\n",
    "- a:  open an existing file for append operation. It won’t override existing data.\n",
    "- r+:  To read and write data into the file. The previous data in the file will be overridden.\n",
    "- w+: To write and read data. It will override existing data.\n",
    "- a+: To append and read data from the file. It won’t override existing data."
   ]
  },
  {
   "cell_type": "markdown",
   "metadata": {
    "id": "4tiR5YLKsSYN"
   },
   "source": [
    "### Exercise: What is going on in the following code?\n",
    "\n"
   ]
  },
  {
   "cell_type": "code",
   "execution_count": 9,
   "metadata": {
    "id": "tqY6Z_4fsSYN"
   },
   "outputs": [
    {
     "name": "stdout",
     "output_type": "stream",
     "text": [
      "a line\n",
      "\n"
     ]
    }
   ],
   "source": [
    "f=open(f'{path}/example.txt', 'w')\n",
    "f.write('a line\\n')\n",
    "\n",
    "\n",
    "\n",
    "f=open(f'{path}/example.txt', 'r')\n",
    "\n",
    "print(f.read())\n",
    "f.close()"
   ]
  },
  {
   "cell_type": "markdown",
   "metadata": {
    "id": "He7EE0OssSYN"
   },
   "source": [
    "### Exercise:\n",
    "\n",
    "\n",
    "- Use the os module to create a new folder named \"my_example_files\" with a bash command.\n",
    "- Use a loop to create 0 txt files named example1.txt, example2.txt and so on. Store them in the folder you created above.\n",
    "\n",
    "\n",
    "-\n",
    "-\n",
    "-\n",
    "-\n",
    "-\n",
    "-\n",
    "-\n",
    "\n",
    "\n",
    "\n",
    "\n"
   ]
  },
  {
   "cell_type": "code",
   "execution_count": 17,
   "metadata": {},
   "outputs": [
    {
     "data": {
      "text/plain": [
       "0"
      ]
     },
     "execution_count": 17,
     "metadata": {},
     "output_type": "execute_result"
    }
   ],
   "source": [
    "os.system('mkdir assigment')"
   ]
  },
  {
   "cell_type": "code",
   "execution_count": 38,
   "metadata": {},
   "outputs": [],
   "source": [
    "for i in range(10):\n",
    "    os.system(f'touch example{i}.txt')"
   ]
  },
  {
   "cell_type": "code",
   "execution_count": 34,
   "metadata": {},
   "outputs": [
    {
     "data": {
      "text/plain": [
       "0"
      ]
     },
     "execution_count": 34,
     "metadata": {},
     "output_type": "execute_result"
    }
   ],
   "source": [
    "os.system('cd assigment')"
   ]
  },
  {
   "cell_type": "code",
   "execution_count": 37,
   "metadata": {},
   "outputs": [
    {
     "name": "stdout",
     "output_type": "stream",
     "text": [
      "/Users/mikelgallo/repos/master_repo/Python_practice/assigment\n"
     ]
    }
   ],
   "source": [
    "%cd assigment/"
   ]
  },
  {
   "cell_type": "code",
   "execution_count": null,
   "metadata": {
    "id": "jslxpwIosSYO",
    "outputId": "91a6fe58-59a9-4a4a-be53-477d56c998ae"
   },
   "outputs": [
    {
     "name": "stdout",
     "output_type": "stream",
     "text": [
      "example7.txt\n",
      "example6.txt\n",
      "example4.txt\n",
      "example5.txt\n",
      "example1.txt\n",
      "example0.txt\n",
      "example2.txt\n",
      "example3.txt\n",
      ".hidden_file.txt\n",
      "example.txt\n",
      "example8.txt\n",
      "example9.txt\n"
     ]
    }
   ],
   "source": [
    "# Reading only the files i want:\n",
    "\n",
    "\n",
    "for root, dirs, files in os.walk(path):\n",
    "    for file in files:\n",
    "        print(file)\n",
    "\n",
    "\n",
    "# You can also recover the path in a robust way:\n",
    "\n",
    "for root, dirs, files in os.walk(path):\n",
    "    for file in files:\n",
    "        print(os.path.join(root,file))\n",
    "\n",
    "\n"
   ]
  },
  {
   "cell_type": "markdown",
   "metadata": {
    "id": "2m3cvm7YsSYO"
   },
   "source": [
    "You can see that there is a hidden file. os() is powerful enough to detect these files and this can result in problems when you're trying to read files. Typically, hidden files in MAC start with a . and can be unveiled with the shortcut cmd+shit+.\n",
    "\n",
    "For windows: https://support.microsoft.com/en-us/windows/show-hidden-files-0320fe58-0117-fd59-6851-9b7f9840fdb2\n",
    "\n",
    "\n"
   ]
  },
  {
   "cell_type": "markdown",
   "metadata": {
    "id": "08LOhEPdsSYP"
   },
   "source": [
    "## EXERCISE:\n",
    "\n",
    "\n",
    "Download the folder \"files_class_exercise\".\n",
    "\n",
    "Here are the files that store your grades for the problem set. Suppose that you wanted to fool me and raise your (team) grades 2 points. Bear in mind if I catch you all the class will fail.\n",
    "\n",
    "Upload your \"fake\" folder to google class.\n",
    "\n"
   ]
  },
  {
   "cell_type": "code",
   "execution_count": 126,
   "metadata": {},
   "outputs": [
    {
     "name": "stdout",
     "output_type": "stream",
     "text": [
      "['Ortiz,Alvaro\\t9\\nBennett,Andrew\\t6\\nDi Gianvito,Angelo\\t5\\nMichelangelo,Arianna\\t7\\nVélez,Daniela\\t8\\nMonbiot,Edward\\t10\\nMirabent Rubinat,Guillem\\t7\\nOssa,Joaquin\\t9\\nGonzález,Julia\\t6\\nAlvarez Poli,Luis Francisco\\t8\\nAtazona,Luke\\t10\\nSargsyan,Mariam\\t9\\nBreier,Mathieu\\t7\\nBoudier,Maëlys\\t6\\nGallo,Mikel\\t6\\nBeltrán,Natalia\\t10\\nGatland,Oliver\\t5\\nMaciel,Rui\\t5\\nBoxho,Sebastien\\t9\\nBakwenye,Tatiana\\t7\\nKromm,Vanessa\\t8\\nYuzkiv,Viktoriia\\t8\\n']\n",
      "['Ortiz,Alvaro\\t9', 'Bennett,Andrew\\t6', 'Di Gianvito,Angelo\\t5', 'Michelangelo,Arianna\\t7', 'Vélez,Daniela\\t8', 'Monbiot,Edward\\t10', 'Mirabent Rubinat,Guillem\\t7', 'Ossa,Joaquin\\t9', 'González,Julia\\t6', 'Alvarez Poli,Luis Francisco\\t8', 'Atazona,Luke\\t10', 'Sargsyan,Mariam\\t9', 'Breier,Mathieu\\t7', 'Boudier,Maëlys\\t6', 'Gallo,Mikel\\t6', 'Beltrán,Natalia\\t10', 'Gatland,Oliver\\t5', 'Maciel,Rui\\t5', 'Boxho,Sebastien\\t9', 'Bakwenye,Tatiana\\t7', 'Kromm,Vanessa\\t8', 'Yuzkiv,Viktoriia\\t8', '']\n",
      "['Ortiz,Alvaro\\t10\\nBennett,Andrew\\t6\\nDi Gianvito,Angelo\\t9\\nMichelangelo,Arianna\\t7\\nVélez,Daniela\\t10\\nMonbiot,Edward\\t7\\nMirabent Rubinat,Guillem\\t9\\nOssa,Joaquin\\t8\\nGonzález,Julia\\t8\\nAlvarez Poli,Luis Francisco\\t8\\nAtazona,Luke\\t8\\nSargsyan,Mariam\\t10\\nBreier,Mathieu\\t7\\nBoudier,Maëlys\\t5\\nGallo,Mikel\\t10\\nBeltrán,Natalia\\t7\\nGatland,Oliver\\t10\\nMaciel,Rui\\t10\\nBoxho,Sebastien\\t6\\nBakwenye,Tatiana\\t6\\nKromm,Vanessa\\t7\\nYuzkiv,Viktoriia\\t9\\n']\n",
      "['Ortiz,Alvaro\\t10', 'Bennett,Andrew\\t6', 'Di Gianvito,Angelo\\t9', 'Michelangelo,Arianna\\t7', 'Vélez,Daniela\\t10', 'Monbiot,Edward\\t7', 'Mirabent Rubinat,Guillem\\t9', 'Ossa,Joaquin\\t8', 'González,Julia\\t8', 'Alvarez Poli,Luis Francisco\\t8', 'Atazona,Luke\\t8', 'Sargsyan,Mariam\\t10', 'Breier,Mathieu\\t7', 'Boudier,Maëlys\\t5', 'Gallo,Mikel\\t10', 'Beltrán,Natalia\\t7', 'Gatland,Oliver\\t10', 'Maciel,Rui\\t10', 'Boxho,Sebastien\\t6', 'Bakwenye,Tatiana\\t6', 'Kromm,Vanessa\\t7', 'Yuzkiv,Viktoriia\\t9', '']\n",
      "['Ortiz,Alvaro\\t6\\nBennett,Andrew\\t9\\nDi Gianvito,Angelo\\t8\\nMichelangelo,Arianna\\t10\\nVélez,Daniela\\t5\\nMonbiot,Edward\\t6\\nMirabent Rubinat,Guillem\\t8\\nOssa,Joaquin\\t5\\nGonzález,Julia\\t8\\nAlvarez Poli,Luis Francisco\\t10\\nAtazona,Luke\\t7\\nSargsyan,Mariam\\t5\\nBreier,Mathieu\\t10\\nBoudier,Maëlys\\t9\\nGallo,Mikel\\t8\\nBeltrán,Natalia\\t8\\nGatland,Oliver\\t5\\nMaciel,Rui\\t9\\nBoxho,Sebastien\\t6\\nBakwenye,Tatiana\\t9\\nKromm,Vanessa\\t8\\nYuzkiv,Viktoriia\\t9\\n']\n",
      "['Ortiz,Alvaro\\t6', 'Bennett,Andrew\\t9', 'Di Gianvito,Angelo\\t8', 'Michelangelo,Arianna\\t10', 'Vélez,Daniela\\t5', 'Monbiot,Edward\\t6', 'Mirabent Rubinat,Guillem\\t8', 'Ossa,Joaquin\\t5', 'González,Julia\\t8', 'Alvarez Poli,Luis Francisco\\t10', 'Atazona,Luke\\t7', 'Sargsyan,Mariam\\t5', 'Breier,Mathieu\\t10', 'Boudier,Maëlys\\t9', 'Gallo,Mikel\\t8', 'Beltrán,Natalia\\t8', 'Gatland,Oliver\\t5', 'Maciel,Rui\\t9', 'Boxho,Sebastien\\t6', 'Bakwenye,Tatiana\\t9', 'Kromm,Vanessa\\t8', 'Yuzkiv,Viktoriia\\t9', '']\n",
      "['Ortiz,Alvaro\\t5\\nBennett,Andrew\\t10\\nDi Gianvito,Angelo\\t8\\nMichelangelo,Arianna\\t10\\nVélez,Daniela\\t6\\nMonbiot,Edward\\t8\\nMirabent Rubinat,Guillem\\t9\\nOssa,Joaquin\\t9\\nGonzález,Julia\\t7\\nAlvarez Poli,Luis Francisco\\t7\\nAtazona,Luke\\t6\\nSargsyan,Mariam\\t5\\nBreier,Mathieu\\t5\\nBoudier,Maëlys\\t7\\nGallo,Mikel\\t6\\nBeltrán,Natalia\\t9\\nGatland,Oliver\\t8\\nMaciel,Rui\\t9\\nBoxho,Sebastien\\t8\\nBakwenye,Tatiana\\t7\\nKromm,Vanessa\\t6\\nYuzkiv,Viktoriia\\t6\\n']\n",
      "['Ortiz,Alvaro\\t5', 'Bennett,Andrew\\t10', 'Di Gianvito,Angelo\\t8', 'Michelangelo,Arianna\\t10', 'Vélez,Daniela\\t6', 'Monbiot,Edward\\t8', 'Mirabent Rubinat,Guillem\\t9', 'Ossa,Joaquin\\t9', 'González,Julia\\t7', 'Alvarez Poli,Luis Francisco\\t7', 'Atazona,Luke\\t6', 'Sargsyan,Mariam\\t5', 'Breier,Mathieu\\t5', 'Boudier,Maëlys\\t7', 'Gallo,Mikel\\t6', 'Beltrán,Natalia\\t9', 'Gatland,Oliver\\t8', 'Maciel,Rui\\t9', 'Boxho,Sebastien\\t8', 'Bakwenye,Tatiana\\t7', 'Kromm,Vanessa\\t6', 'Yuzkiv,Viktoriia\\t6', '']\n",
      "['Ortiz,Alvaro\\t10\\nBennett,Andrew\\t6\\nDi Gianvito,Angelo\\t10\\nMichelangelo,Arianna\\t8\\nVélez,Daniela\\t9\\nMonbiot,Edward\\t6\\nMirabent Rubinat,Guillem\\t7\\nOssa,Joaquin\\t7\\nGonzález,Julia\\t7\\nAlvarez Poli,Luis Francisco\\t9\\nAtazona,Luke\\t10\\nSargsyan,Mariam\\t5\\nBreier,Mathieu\\t8\\nBoudier,Maëlys\\t7\\nGallo,Mikel\\t8\\nBeltrán,Natalia\\t8\\nGatland,Oliver\\t9\\nMaciel,Rui\\t8\\nBoxho,Sebastien\\t7\\nBakwenye,Tatiana\\t9\\nKromm,Vanessa\\t5\\nYuzkiv,Viktoriia\\t7\\n']\n",
      "['Ortiz,Alvaro\\t10', 'Bennett,Andrew\\t6', 'Di Gianvito,Angelo\\t10', 'Michelangelo,Arianna\\t8', 'Vélez,Daniela\\t9', 'Monbiot,Edward\\t6', 'Mirabent Rubinat,Guillem\\t7', 'Ossa,Joaquin\\t7', 'González,Julia\\t7', 'Alvarez Poli,Luis Francisco\\t9', 'Atazona,Luke\\t10', 'Sargsyan,Mariam\\t5', 'Breier,Mathieu\\t8', 'Boudier,Maëlys\\t7', 'Gallo,Mikel\\t8', 'Beltrán,Natalia\\t8', 'Gatland,Oliver\\t9', 'Maciel,Rui\\t8', 'Boxho,Sebastien\\t7', 'Bakwenye,Tatiana\\t9', 'Kromm,Vanessa\\t5', 'Yuzkiv,Viktoriia\\t7', '']\n",
      "['Ortiz,Alvaro\\t10\\nBennett,Andrew\\t8\\nDi Gianvito,Angelo\\t5\\nMichelangelo,Arianna\\t7\\nVélez,Daniela\\t9\\nMonbiot,Edward\\t6\\nMirabent Rubinat,Guillem\\t10\\nOssa,Joaquin\\t8\\nGonzález,Julia\\t10\\nAlvarez Poli,Luis Francisco\\t5\\nAtazona,Luke\\t9\\nSargsyan,Mariam\\t6\\nBreier,Mathieu\\t10\\nBoudier,Maëlys\\t7\\nGallo,Mikel\\t6\\nBeltrán,Natalia\\t10\\nGatland,Oliver\\t9\\nMaciel,Rui\\t7\\nBoxho,Sebastien\\t7\\nBakwenye,Tatiana\\t5\\nKromm,Vanessa\\t6\\nYuzkiv,Viktoriia\\t9\\n']\n",
      "['Ortiz,Alvaro\\t10', 'Bennett,Andrew\\t8', 'Di Gianvito,Angelo\\t5', 'Michelangelo,Arianna\\t7', 'Vélez,Daniela\\t9', 'Monbiot,Edward\\t6', 'Mirabent Rubinat,Guillem\\t10', 'Ossa,Joaquin\\t8', 'González,Julia\\t10', 'Alvarez Poli,Luis Francisco\\t5', 'Atazona,Luke\\t9', 'Sargsyan,Mariam\\t6', 'Breier,Mathieu\\t10', 'Boudier,Maëlys\\t7', 'Gallo,Mikel\\t6', 'Beltrán,Natalia\\t10', 'Gatland,Oliver\\t9', 'Maciel,Rui\\t7', 'Boxho,Sebastien\\t7', 'Bakwenye,Tatiana\\t5', 'Kromm,Vanessa\\t6', 'Yuzkiv,Viktoriia\\t9', '']\n",
      "['Ortiz,Alvaro\\t5\\nBennett,Andrew\\t9\\nDi Gianvito,Angelo\\t5\\nMichelangelo,Arianna\\t8\\nVélez,Daniela\\t9\\nMonbiot,Edward\\t8\\nMirabent Rubinat,Guillem\\t5\\nOssa,Joaquin\\t6\\nGonzález,Julia\\t8\\nAlvarez Poli,Luis Francisco\\t7\\nAtazona,Luke\\t9\\nSargsyan,Mariam\\t8\\nBreier,Mathieu\\t7\\nBoudier,Maëlys\\t6\\nGallo,Mikel\\t10\\nBeltrán,Natalia\\t10\\nGatland,Oliver\\t5\\nMaciel,Rui\\t6\\nBoxho,Sebastien\\t6\\nBakwenye,Tatiana\\t9\\nKromm,Vanessa\\t9\\nYuzkiv,Viktoriia\\t5\\n']\n",
      "['Ortiz,Alvaro\\t5', 'Bennett,Andrew\\t9', 'Di Gianvito,Angelo\\t5', 'Michelangelo,Arianna\\t8', 'Vélez,Daniela\\t9', 'Monbiot,Edward\\t8', 'Mirabent Rubinat,Guillem\\t5', 'Ossa,Joaquin\\t6', 'González,Julia\\t8', 'Alvarez Poli,Luis Francisco\\t7', 'Atazona,Luke\\t9', 'Sargsyan,Mariam\\t8', 'Breier,Mathieu\\t7', 'Boudier,Maëlys\\t6', 'Gallo,Mikel\\t10', 'Beltrán,Natalia\\t10', 'Gatland,Oliver\\t5', 'Maciel,Rui\\t6', 'Boxho,Sebastien\\t6', 'Bakwenye,Tatiana\\t9', 'Kromm,Vanessa\\t9', 'Yuzkiv,Viktoriia\\t5', '']\n",
      "['Ortiz,Alvaro\\t10\\nBennett,Andrew\\t6\\nDi Gianvito,Angelo\\t7\\nMichelangelo,Arianna\\t6\\nVélez,Daniela\\t9\\nMonbiot,Edward\\t8\\nMirabent Rubinat,Guillem\\t5\\nOssa,Joaquin\\t10\\nGonzález,Julia\\t10\\nAlvarez Poli,Luis Francisco\\t6\\nAtazona,Luke\\t6\\nSargsyan,Mariam\\t9\\nBreier,Mathieu\\t7\\nBoudier,Maëlys\\t7\\nGallo,Mikel\\t6\\nBeltrán,Natalia\\t8\\nGatland,Oliver\\t9\\nMaciel,Rui\\t9\\nBoxho,Sebastien\\t8\\nBakwenye,Tatiana\\t10\\nKromm,Vanessa\\t6\\nYuzkiv,Viktoriia\\t6\\n']\n",
      "['Ortiz,Alvaro\\t10', 'Bennett,Andrew\\t6', 'Di Gianvito,Angelo\\t7', 'Michelangelo,Arianna\\t6', 'Vélez,Daniela\\t9', 'Monbiot,Edward\\t8', 'Mirabent Rubinat,Guillem\\t5', 'Ossa,Joaquin\\t10', 'González,Julia\\t10', 'Alvarez Poli,Luis Francisco\\t6', 'Atazona,Luke\\t6', 'Sargsyan,Mariam\\t9', 'Breier,Mathieu\\t7', 'Boudier,Maëlys\\t7', 'Gallo,Mikel\\t6', 'Beltrán,Natalia\\t8', 'Gatland,Oliver\\t9', 'Maciel,Rui\\t9', 'Boxho,Sebastien\\t8', 'Bakwenye,Tatiana\\t10', 'Kromm,Vanessa\\t6', 'Yuzkiv,Viktoriia\\t6', '']\n",
      "['Ortiz,Alvaro\\t9\\nBennett,Andrew\\t8\\nDi Gianvito,Angelo\\t10\\nMichelangelo,Arianna\\t8\\nVélez,Daniela\\t6\\nMonbiot,Edward\\t6\\nMirabent Rubinat,Guillem\\t8\\nOssa,Joaquin\\t5\\nGonzález,Julia\\t6\\nAlvarez Poli,Luis Francisco\\t9\\nAtazona,Luke\\t6\\nSargsyan,Mariam\\t9\\nBreier,Mathieu\\t10\\nBoudier,Maëlys\\t7\\nGallo,Mikel\\t7\\nBeltrán,Natalia\\t8\\nGatland,Oliver\\t5\\nMaciel,Rui\\t7\\nBoxho,Sebastien\\t7\\nBakwenye,Tatiana\\t9\\nKromm,Vanessa\\t7\\nYuzkiv,Viktoriia\\t5\\n']\n",
      "['Ortiz,Alvaro\\t9', 'Bennett,Andrew\\t8', 'Di Gianvito,Angelo\\t10', 'Michelangelo,Arianna\\t8', 'Vélez,Daniela\\t6', 'Monbiot,Edward\\t6', 'Mirabent Rubinat,Guillem\\t8', 'Ossa,Joaquin\\t5', 'González,Julia\\t6', 'Alvarez Poli,Luis Francisco\\t9', 'Atazona,Luke\\t6', 'Sargsyan,Mariam\\t9', 'Breier,Mathieu\\t10', 'Boudier,Maëlys\\t7', 'Gallo,Mikel\\t7', 'Beltrán,Natalia\\t8', 'Gatland,Oliver\\t5', 'Maciel,Rui\\t7', 'Boxho,Sebastien\\t7', 'Bakwenye,Tatiana\\t9', 'Kromm,Vanessa\\t7', 'Yuzkiv,Viktoriia\\t5', '']\n"
     ]
    }
   ],
   "source": [
    "# first thing to do \n",
    "path= '/Users/mikelgallo/repos/master_repo/files_class_exercise'\n",
    "\n",
    "    \n",
    "for root, dirs, files in os.walk(path):\n",
    "    for file in files:\n",
    "        if not file.startswith('problem_set_'):\n",
    "            continue\n",
    "        mygrade=[]\n",
    "        with open(f'{path}/{file}','r') as f:\n",
    "            mygrade.append(f.read())\n",
    "            print(mygrade)\n",
    "            mygrade = mygrade[0].split('\\n')\n",
    "            print(mygrade)\n",
    "            \n"
   ]
  },
  {
   "cell_type": "code",
   "execution_count": 115,
   "metadata": {},
   "outputs": [
    {
     "data": {
      "text/plain": [
       "'Bennett,Andrew\\t8'"
      ]
     },
     "execution_count": 115,
     "metadata": {},
     "output_type": "execute_result"
    }
   ],
   "source": [
    "mygrade[1]"
   ]
  },
  {
   "cell_type": "code",
   "execution_count": 111,
   "metadata": {},
   "outputs": [
    {
     "name": "stdout",
     "output_type": "stream",
     "text": [
      "['Ortiz,Alvaro\\t9', 'Bennett,Andrew\\t8', 'Di Gianvito,Angelo\\t10', 'Michelangelo,Arianna\\t8', 'Vélez,Daniela\\t6', 'Monbiot,Edward\\t6', 'Mirabent Rubinat,Guillem\\t8', 'Ossa,Joaquin\\t5', 'González,Julia\\t6', 'Alvarez Poli,Luis Francisco\\t9', 'Atazona,Luke\\t6', 'Sargsyan,Mariam\\t9', 'Breier,Mathieu\\t10', 'Boudier,Maëlys\\t7', 'Gallo,Mikel\\t7', 'Beltrán,Natalia\\t8', 'Gatland,Oliver\\t5', 'Maciel,Rui\\t7', 'Boxho,Sebastien\\t7', 'Bakwenye,Tatiana\\t9', 'Kromm,Vanessa\\t7', 'Yuzkiv,Viktoriia\\t5', '']\n"
     ]
    }
   ],
   "source": [
    "print(mygrade)"
   ]
  },
  {
   "cell_type": "code",
   "execution_count": 50,
   "metadata": {},
   "outputs": [],
   "source": [
    "lista = os.listdir(path)"
   ]
  },
  {
   "cell_type": "code",
   "execution_count": null,
   "metadata": {},
   "outputs": [],
   "source": [
    "[s for s in xs if \"abc\" in s]\n"
   ]
  },
  {
   "cell_type": "code",
   "execution_count": 66,
   "metadata": {},
   "outputs": [
    {
     "name": "stdout",
     "output_type": "stream",
     "text": [
      "problem_set_2.txt\n",
      "problem_set_3.txt\n",
      "problem_set_1.txt\n",
      "problem_set_0.txt\n",
      "problem_set_4.txt\n",
      "problem_set_5.txt\n",
      "problem_set_7.txt\n",
      "problem_set_6.txt\n",
      "problem_set_8.txt\n"
     ]
    }
   ],
   "source": [
    "name='Desktop'\n",
    "age='myfile'\n",
    "\n",
    "\n",
    "\n",
    "f'{name}/{age}'\n",
    "        \n",
    "    \n",
    "    "
   ]
  },
  {
   "cell_type": "code",
   "execution_count": 56,
   "metadata": {},
   "outputs": [
    {
     "name": "stdout",
     "output_type": "stream",
     "text": [
      "['problem_set_2.txt', 'problem_set_3.txt', 'problem_set_1.txt', 'problem_set_0.txt', 'problem_set_4.txt', '.DS_Store', 'problem_set_5.txt', 'problem_set_7.txt', 'problem_set_6.txt', '.hidden_file.txt', 'problem_set_8.txt', '.vscode']\n"
     ]
    }
   ],
   "source": [
    "print(lista)"
   ]
  },
  {
   "cell_type": "code",
   "execution_count": null,
   "metadata": {},
   "outputs": [],
   "source": [
    "lista.remove('')"
   ]
  },
  {
   "cell_type": "code",
   "execution_count": null,
   "metadata": {
    "id": "GeZTsuAfsSYP",
    "outputId": "15f7a5ac-201d-4b63-a3f0-1477b2f0bfd4"
   },
   "outputs": [
    {
     "name": "stdout",
     "output_type": "stream",
     "text": [
      "6\n",
      "-----------------\n",
      "4\n",
      "-----------------\n",
      "5\n",
      "-----------------\n",
      "1\n",
      "-----------------\n",
      "2\n",
      "-----------------\n",
      "3\n",
      "-----------------\n"
     ]
    }
   ],
   "source": [
    "# Suposse I only want to read files from 1 to 6:\n",
    "\n",
    "for root, dirs, files in os.walk(path):\n",
    "    for file in files:\n",
    "        if file.startswith('.'):\n",
    "            continue\n",
    "        number=file.split('.')[0][-1]\n",
    "        if number in   [str(i) for i in list(range(1,7))]:\n",
    "            with open(f'{path}/{file}','r') as f:\n",
    "                print(f.read())\n",
    "                print('-'*80)\n",
    "            os.remove(os.path.join(root, file))\n",
    "\n"
   ]
  },
  {
   "cell_type": "markdown",
   "metadata": {
    "id": "_ciqlXRusSYP"
   },
   "source": [
    "## os.remove()\n",
    "\n",
    "remove is very powerful. It does not respect your usual deletion process that eliminates files into a secondary, safety location: The trash.\n",
    "\n",
    "If you confuse the path you're working on, it can result into a big disaster.\n",
    "\n",
    "If you don't want to face those risks here is an alternative."
   ]
  },
  {
   "cell_type": "code",
   "execution_count": null,
   "metadata": {
    "id": "Vt5Kcd_NsSYP"
   },
   "outputs": [],
   "source": [
    "from send2trash import send2trash\n",
    "\n",
    "for root, dirs, files in os.walk(path):\n",
    "    for file in files:\n",
    "        if file.startswith('.'):\n",
    "            continue\n",
    "        send2trash(os.path.join(root, file))\n"
   ]
  },
  {
   "cell_type": "markdown",
   "metadata": {
    "id": "EyAFV2-NsSYQ"
   },
   "source": [
    "## File formats:\n",
    "\n",
    "So far we've played around with .txt. Although it is the simplest format, it remais handy for a lot of operations. However, as you probably know, there are many other file formats. The format depends on the type of content you're working in. For instance, in text analysis we will encounter csv, json, parquet, zip ... For images you might face png, jpeg or wav for audio files.\n",
    "\n",
    "We will not dig deeper into this know but bear in mind that you need to adapt the format of your files for your specific purposes and take into account readibility, sotrage and compression ability.\n"
   ]
  }
 ],
 "metadata": {
  "colab": {
   "provenance": []
  },
  "kernelspec": {
   "display_name": "Python 3 (ipykernel)",
   "language": "python",
   "name": "python3"
  },
  "language_info": {
   "codemirror_mode": {
    "name": "ipython",
    "version": 3
   },
   "file_extension": ".py",
   "mimetype": "text/x-python",
   "name": "python",
   "nbconvert_exporter": "python",
   "pygments_lexer": "ipython3",
   "version": "3.9.7"
  },
  "vscode": {
   "interpreter": {
    "hash": "8e5bc56a5e59828724b9606669ef2e877f786cc96978258679ba8b9f5956bc86"
   }
  }
 },
 "nbformat": 4,
 "nbformat_minor": 1
}
