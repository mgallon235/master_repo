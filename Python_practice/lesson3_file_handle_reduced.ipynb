{
 "cells": [
  {
   "cell_type": "markdown",
   "metadata": {
    "id": "-NGzQaJBsSYJ"
   },
   "source": [
    "# File handling:\n",
    "\n",
    "\n",
    "Sometimes you need to process files within python. Files can be in unumerable formats and there are versatile modules to handle their reading. In this part, we will focus on .txt files. Although there are many cool things you can do with text, in the brush up we will only see how to operate with the files without touching their content. We leave that for the text analysis course :)\n",
    "\n",
    "\n",
    "\n"
   ]
  },
  {
   "cell_type": "code",
   "execution_count": 88,
   "metadata": {
    "id": "EmLeyAyvsSYL"
   },
   "outputs": [],
   "source": [
    "import os\n",
    "\n",
    "# recover path\n",
    "path= os.getcwd()\n",
    "\n",
    "#creates or sets the directory (Ask Luis)\n",
    "os.makedirs(path,exist_ok=True)\n",
    "\n",
    "\n",
    "# open directory set in path and set to write\n",
    "with open(f'{path}/example.txt','w') as f:\n",
    "    # iterate 10 times over example.txt by writing 10 lines\n",
    "    for line in range(10):\n",
    "        f.write('a line\\n')\n",
    "\n",
    "\n",
    "\n",
    "\n",
    "\n"
   ]
  },
  {
   "cell_type": "code",
   "execution_count": 89,
   "metadata": {},
   "outputs": [],
   "source": [
    "# Practice. Make sure to check both paths from vscode and Jupyter\n",
    "with open(f'{path}/new_text.txt','w') as f:\n",
    "    for line in range(20):\n",
    "        f.write(\"Im going to make it \\n\")"
   ]
  },
  {
   "cell_type": "code",
   "execution_count": 87,
   "metadata": {},
   "outputs": [
    {
     "data": {
      "text/plain": [
       "'/Users/mikelgallo/repos/master_repo/Python_practice'"
      ]
     },
     "execution_count": 87,
     "metadata": {},
     "output_type": "execute_result"
    }
   ],
   "source": [
    "#return path\n",
    "os.getcwd()"
   ]
  },
  {
   "cell_type": "markdown",
   "metadata": {
    "id": "O1tid37wsSYM"
   },
   "source": [
    "- r: open an existing file for a read operation.\n",
    "- w: open an existing file for a write operation. If the file already contains some data then it will be overridden but if the file is not present then it creates the file as well.\n",
    "- a:  open an existing file for append operation. It won’t override existing data.\n",
    "- r+:  To read and write data into the file. The previous data in the file will be overridden.\n",
    "- w+: To write and read data. It will override existing data.\n",
    "- a+: To append and read data from the file. It won’t override existing data."
   ]
  },
  {
   "cell_type": "markdown",
   "metadata": {
    "id": "4tiR5YLKsSYN"
   },
   "source": [
    "### Exercise: What is going on in the following code?\n",
    "\n"
   ]
  },
  {
   "cell_type": "code",
   "execution_count": 9,
   "metadata": {
    "id": "tqY6Z_4fsSYN"
   },
   "outputs": [
    {
     "name": "stdout",
     "output_type": "stream",
     "text": [
      "a line\n",
      "\n"
     ]
    }
   ],
   "source": [
    "\n",
    "# We open example.txt and write a line\n",
    "f=open(f'{path}/example.txt', 'w')\n",
    "f.write('a line\\n')\n",
    "\n",
    "\n",
    "# We now open the example.txt but we only read what's inside\n",
    "f=open(f'{path}/example.txt', 'r')\n",
    "\n",
    "print(f.read())\n",
    "# remember to close the document if we are not using it\n",
    "f.close()"
   ]
  },
  {
   "cell_type": "markdown",
   "metadata": {
    "id": "He7EE0OssSYN"
   },
   "source": [
    "### Exercise:\n",
    "\n",
    "\n",
    "- Use the os module to create a new folder named \"my_example_files\" with a bash command.\n",
    "- Use a loop to create 0 txt files named example1.txt, example2.txt and so on. Store them in the folder you created above.\n",
    "\n",
    "\n",
    "-\n",
    "-\n",
    "-\n",
    "-\n",
    "-\n",
    "-\n",
    "-\n",
    "\n",
    "\n",
    "\n",
    "\n"
   ]
  },
  {
   "cell_type": "code",
   "execution_count": 17,
   "metadata": {},
   "outputs": [
    {
     "data": {
      "text/plain": [
       "0"
      ]
     },
     "execution_count": 17,
     "metadata": {},
     "output_type": "execute_result"
    }
   ],
   "source": [
    "# Use the os.system module to create a new directory\n",
    "os.system('mkdir assigment')"
   ]
  },
  {
   "cell_type": "code",
   "execution_count": 38,
   "metadata": {},
   "outputs": [],
   "source": [
    "# Always make sure to be in the right directory\n",
    "# Using os and bash we create 10 text files \n",
    "for i in range(10):\n",
    "    os.system(f'touch example{i}.txt')"
   ]
  },
  {
   "cell_type": "markdown",
   "metadata": {},
   "source": [
    "## Exercise"
   ]
  },
  {
   "cell_type": "code",
   "execution_count": null,
   "metadata": {
    "id": "jslxpwIosSYO",
    "outputId": "91a6fe58-59a9-4a4a-be53-477d56c998ae"
   },
   "outputs": [
    {
     "name": "stdout",
     "output_type": "stream",
     "text": [
      "example7.txt\n",
      "example6.txt\n",
      "example4.txt\n",
      "example5.txt\n",
      "example1.txt\n",
      "example0.txt\n",
      "example2.txt\n",
      "example3.txt\n",
      ".hidden_file.txt\n",
      "example.txt\n",
      "example8.txt\n",
      "example9.txt\n"
     ]
    }
   ],
   "source": [
    "# Reading only the files i want:\n",
    "\n",
    "# Getting the names of files in folder\n",
    "for root, dirs, files in os.walk(path):\n",
    "    # iterating over the files in exercise\n",
    "    for file in files:\n",
    "        print(file)\n",
    "\n"
   ]
  },
  {
   "cell_type": "code",
   "execution_count": 90,
   "metadata": {},
   "outputs": [
    {
     "name": "stdout",
     "output_type": "stream",
     "text": [
      "/Users/mikelgallo/repos/master_repo/Python_practice/.DS_Store\n",
      "/Users/mikelgallo/repos/master_repo/Python_practice/infinite_series.py\n",
      "/Users/mikelgallo/repos/master_repo/Python_practice/luis_trial.py\n",
      "/Users/mikelgallo/repos/master_repo/Python_practice/lesson_2.py\n",
      "/Users/mikelgallo/repos/master_repo/Python_practice/lesson2_modules_functions_reduced.ipynb\n",
      "/Users/mikelgallo/repos/master_repo/Python_practice/dirs_loop_class.py\n",
      "/Users/mikelgallo/repos/master_repo/Python_practice/new_text.txt\n",
      "/Users/mikelgallo/repos/master_repo/Python_practice/joke_function.py\n",
      "/Users/mikelgallo/repos/master_repo/Python_practice/example.txt\n",
      "/Users/mikelgallo/repos/master_repo/Python_practice/lesson3_file_handle_reduced.ipynb\n",
      "/Users/mikelgallo/repos/master_repo/Python_practice/assigment/example7.txt\n",
      "/Users/mikelgallo/repos/master_repo/Python_practice/assigment/example6.txt\n",
      "/Users/mikelgallo/repos/master_repo/Python_practice/assigment/example4.txt\n",
      "/Users/mikelgallo/repos/master_repo/Python_practice/assigment/example5.txt\n",
      "/Users/mikelgallo/repos/master_repo/Python_practice/assigment/example1.txt\n",
      "/Users/mikelgallo/repos/master_repo/Python_practice/assigment/example0.txt\n",
      "/Users/mikelgallo/repos/master_repo/Python_practice/assigment/example2.txt\n",
      "/Users/mikelgallo/repos/master_repo/Python_practice/assigment/example3.txt\n",
      "/Users/mikelgallo/repos/master_repo/Python_practice/assigment/example8.txt\n",
      "/Users/mikelgallo/repos/master_repo/Python_practice/assigment/example9.txt\n",
      "/Users/mikelgallo/repos/master_repo/Python_practice/__pycache__/joke_function.cpython-39.pyc\n",
      "/Users/mikelgallo/repos/master_repo/Python_practice/.ipynb_checkpoints/lesson3_file_handle_reduced-checkpoint.ipynb\n",
      "/Users/mikelgallo/repos/master_repo/Python_practice/.ipynb_checkpoints/lesson2_modules_functions_reduced-checkpoint.ipynb\n"
     ]
    }
   ],
   "source": [
    "\n",
    "# You can also recover the path in a robust way:\n",
    "for root, dirs, files in os.walk(path):\n",
    "    for file in files:\n",
    "        print(os.path.join(root,file))"
   ]
  },
  {
   "cell_type": "markdown",
   "metadata": {
    "id": "2m3cvm7YsSYO"
   },
   "source": [
    "You can see that there is a hidden file. os() is powerful enough to detect these files and this can result in problems when you're trying to read files. Typically, hidden files in MAC start with a . and can be unveiled with the shortcut cmd+shit+.\n",
    "\n",
    "For windows: https://support.microsoft.com/en-us/windows/show-hidden-files-0320fe58-0117-fd59-6851-9b7f9840fdb2\n",
    "\n",
    "\n"
   ]
  },
  {
   "cell_type": "markdown",
   "metadata": {
    "id": "08LOhEPdsSYP"
   },
   "source": [
    "## EXERCISE: DONE\n",
    "\n",
    "\n",
    "Download the folder \"files_class_exercise\".\n",
    "\n",
    "Here are the files that store your grades for the problem set. Suppose that you wanted to fool me and raise your (team) grades 2 points. Bear in mind if I catch you all the class will fail.\n",
    "\n",
    "Upload your \"fake\" folder to google class.\n",
    "\n"
   ]
  },
  {
   "cell_type": "code",
   "execution_count": 63,
   "metadata": {},
   "outputs": [],
   "source": [
    "grade_dict = {}\n",
    "classk = \"\""
   ]
  },
  {
   "cell_type": "code",
   "execution_count": 65,
   "metadata": {},
   "outputs": [
    {
     "name": "stdout",
     "output_type": "stream",
     "text": [
      "Ortiz,Alvaro\t10\n",
      "Bennett,Andrew\t8\n",
      "Di Gianvito,Angelo\t10\n",
      "Michelangelo,Arianna\t8\n",
      "Vélez,Daniela\t6\n",
      "Monbiot,Edward\t6\n",
      "Mirabent Rubinat,Guillem\t8\n",
      "Ossa,Joaquin\t5\n",
      "González,Julia\t6\n",
      "Alvarez Poli,Luis Francisco\t10\n",
      "Atazona,Luke\t6\n",
      "Sargsyan,Mariam\t9\n",
      "Breier,Mathieu\t10\n",
      "Boudier,Maëlys\t7\n",
      "Gallo,Mikel\t8\n",
      "Beltrán,Natalia\t8\n",
      "Gatland,Oliver\t5\n",
      "Maciel,Rui\t7\n",
      "Boxho,Sebastien\t7\n",
      "Bakwenye,Tatiana\t9\n",
      "Kromm,Vanessa\t7\n",
      "Yuzkiv,Viktoriia\t5\n",
      "\n"
     ]
    }
   ],
   "source": [
    "# first thing to do \n",
    "path= '/Users/mikelgallo/repos/master_repo/files_class_exercise'\n",
    "\n",
    "#. getting the names of files in folder\n",
    "for root, dirs, files in os.walk(path):\n",
    "    # iterating over the files in exercise \n",
    "    for file in files:\n",
    "        if not file.startswith('problem_set_'):\n",
    "            continue\n",
    "        # 'r' only to read data in files not overwriting\n",
    "        with open(f'{path}/{file}','r') as f:\n",
    "            #reading in the file\n",
    "            mygrade = f.read()\n",
    "        # We can just read for saving the data to a variable string\n",
    "        # Create a list by spliting by row\n",
    "        mygrade = mygrade.split('\\n')\n",
    "        grade_dict = {}\n",
    "        \n",
    "        for student in mygrade:\n",
    "            # Remember if empty strings\n",
    "            if student != '':\n",
    "                name,grade = student.split(\"\\t\")\n",
    "                grade_dict[name] = int(grade)\n",
    "        # We have a dictionary, now we need to do the look up\n",
    "        for nam, val in grade_dict.items():\n",
    "            if nam in ['Gallo,Mikel','Alvarez Poli,Luis Francisco','Ortiz,Alvaro'] and val <=5:\n",
    "                grade_dict[nam] += 2\n",
    "            elif nam in ['Gallo,Mikel','Alvarez Poli,Luis Francisco','Ortiz,Alvaro'] and val >5 and val <10:\n",
    "                grade_dict[nam] += 1\n",
    "            else:\n",
    "                grade_dict[nam] += 0 \n",
    "        # loop over the dictionary and join names and grades back with the \\t\n",
    "        # and join by row \\n\n",
    "        classk = \"\"\n",
    "        for n, g in grade_dict.items():\n",
    "            person = n+'\\t'+str(g)+'\\n'\n",
    "            classk += person\n",
    "        with open(f'{path}/{file}','w') as f:\n",
    "        #with open(f'{path}/{file}','w') as f:\n",
    "            #print(file)\n",
    "            #reading in the file\n",
    "            f.write(classk)\n",
    "            \n",
    "            \n",
    "print(classk)   \n",
    "            "
   ]
  },
  {
   "cell_type": "code",
   "execution_count": 91,
   "metadata": {},
   "outputs": [
    {
     "data": {
      "text/plain": [
       "'Desktop/myfile'"
      ]
     },
     "execution_count": 91,
     "metadata": {},
     "output_type": "execute_result"
    }
   ],
   "source": [
    "#Example how to print with variables and string\n",
    "\n",
    "name='Desktop'\n",
    "age='myfile'\n",
    "\n",
    "\n",
    "\n",
    "f'{name}/{age}'\n",
    "        \n",
    "    \n",
    "    "
   ]
  },
  {
   "cell_type": "code",
   "execution_count": null,
   "metadata": {},
   "outputs": [],
   "source": [
    "lista.remove('')"
   ]
  },
  {
   "cell_type": "code",
   "execution_count": null,
   "metadata": {
    "id": "GeZTsuAfsSYP",
    "outputId": "15f7a5ac-201d-4b63-a3f0-1477b2f0bfd4"
   },
   "outputs": [
    {
     "name": "stdout",
     "output_type": "stream",
     "text": [
      "6\n",
      "-----------------\n",
      "4\n",
      "-----------------\n",
      "5\n",
      "-----------------\n",
      "1\n",
      "-----------------\n",
      "2\n",
      "-----------------\n",
      "3\n",
      "-----------------\n"
     ]
    }
   ],
   "source": [
    "# Suposse I only want to read files from 1 to 6:\n",
    "\n",
    "for root, dirs, files in os.walk(path):\n",
    "    for file in files:\n",
    "        if file.startswith('.'):\n",
    "            continue\n",
    "        number=file.split('.')[0][-1]\n",
    "        if number in   [str(i) for i in list(range(1,7))]:\n",
    "            with open(f'{path}/{file}','r') as f:\n",
    "                print(f.read())\n",
    "                print('-'*80)\n",
    "            os.remove(os.path.join(root, file))\n",
    "\n"
   ]
  },
  {
   "cell_type": "markdown",
   "metadata": {
    "id": "_ciqlXRusSYP"
   },
   "source": [
    "## os.remove()\n",
    "\n",
    "remove is very powerful. It does not respect your usual deletion process that eliminates files into a secondary, safety location: The trash.\n",
    "\n",
    "If you confuse the path you're working on, it can result into a big disaster.\n",
    "\n",
    "If you don't want to face those risks here is an alternative."
   ]
  },
  {
   "cell_type": "code",
   "execution_count": null,
   "metadata": {
    "id": "Vt5Kcd_NsSYP"
   },
   "outputs": [],
   "source": [
    "from send2trash import send2trash\n",
    "\n",
    "for root, dirs, files in os.walk(path):\n",
    "    for file in files:\n",
    "        if file.startswith('.'):\n",
    "            continue\n",
    "        send2trash(os.path.join(root, file))\n"
   ]
  },
  {
   "cell_type": "markdown",
   "metadata": {
    "id": "EyAFV2-NsSYQ"
   },
   "source": [
    "## File formats:\n",
    "\n",
    "So far we've played around with .txt. Although it is the simplest format, it remais handy for a lot of operations. However, as you probably know, there are many other file formats. The format depends on the type of content you're working in. For instance, in text analysis we will encounter csv, json, parquet, zip ... For images you might face png, jpeg or wav for audio files.\n",
    "\n",
    "We will not dig deeper into this know but bear in mind that you need to adapt the format of your files for your specific purposes and take into account readibility, sotrage and compression ability.\n"
   ]
  }
 ],
 "metadata": {
  "colab": {
   "provenance": []
  },
  "kernelspec": {
   "display_name": "Python 3 (ipykernel)",
   "language": "python",
   "name": "python3"
  },
  "language_info": {
   "codemirror_mode": {
    "name": "ipython",
    "version": 3
   },
   "file_extension": ".py",
   "mimetype": "text/x-python",
   "name": "python",
   "nbconvert_exporter": "python",
   "pygments_lexer": "ipython3",
   "version": "3.9.7"
  },
  "vscode": {
   "interpreter": {
    "hash": "8e5bc56a5e59828724b9606669ef2e877f786cc96978258679ba8b9f5956bc86"
   }
  }
 },
 "nbformat": 4,
 "nbformat_minor": 1
}
